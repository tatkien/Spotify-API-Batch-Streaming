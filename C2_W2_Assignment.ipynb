{
  "cells": [
    {
      "cell_type": "markdown",
      "metadata": {},
      "source": [
        "# Batch Data Processing from an API\n",
        "\n",
        "In this lab, you will learn how to interact with the Spotify API and extract data from the API in a batch way. You will explore what pagination means and how to send an API request that requires authorization."
      ]
    },
    {
      "cell_type": "markdown",
      "metadata": {},
      "source": [
        "# Table of Contents\n",
        "\n",
        "- [ 1 - Create a Spotify APP](#1)\n",
        "- [ 2 - Understand the Basics of APIs](#2)\n",
        "  - [ 2.1 - Get Token](#2-1)\n",
        "  - [ 2.2 - Get New Releases](#2-2)\n",
        "    - [ Exercise 1](#ex01)\n",
        "  - [ 2.3 - Pagination](#2-3)\n",
        "    - [ Exercise 2](#ex02)\n",
        "    - [ Exercise 3](#ex03)\n",
        "  - [ 2.4 - Optional - API Rate Limits](#2-4)\n",
        "- [ 3 - Batch pipeline](#3)\n",
        "  - [ Exercise 4](#ex04)\n",
        "  - [ Exercise 5](#ex05)\n",
        "  - [ Exercise 6](#ex06)\n",
        "- [ 4 - Optional - Spotipy SDK](#4)\n",
        "  - [ Exercise 7](#ex07)"
      ]
    },
    {
      "cell_type": "markdown",
      "metadata": {},
      "source": [
        "<a id='1'></a>\n",
        "## 1 - Create a Spotify APP\n",
        "\n",
        "To get access to the API resources, you need to create a Spotify account if you don't already have one. A trial account will be enough to complete this lab.\n",
        "\n",
        "1. Go to https://developer.spotify.com/, create an account and log in.\n",
        "2. Click on the account name in the right-top corner and then click on **Dashboard**.\n",
        "3. Create a new APP using the following details:\n",
        "   - App name: `dec2w2a1-spotify-app`\n",
        "   - App description: `spotify app to test the API`\n",
        "   - Website: leave empty\n",
        "   - Redirect URIs: `http://localhost:3000`\n",
        "   - API to use: select `Web API`\n",
        "4. Click on **Save** button. If you get an error message saying that your account is not ready, you can log out, wait for a few minutes and then repeat again steps 2-4.\n",
        "5. In the App Home page click on **Settings** and reveal `Client ID` and `Client secret`. Store them in the `src/env` file provided in this lab. Make sure to save the `src/env` file using `Ctrl + S` or `Cmd + S`.\n",
        "\n",
        "\n",
        "Here's the link to [the Spotify API documentation](https://developer.spotify.com/documentation/web-api/tutorials/getting-started) that you can refer to while you're working on the lab's exercises. The required information to complete the tasks will be given during the lab. You will interact with two resources: \n",
        "- New album releases in the first and second parts ([endpoint](https://developer.spotify.com/documentation/web-api/reference/get-new-releases));\n",
        "- Album tracks in the second part ([endpoint](https://developer.spotify.com/documentation/web-api/reference/get-an-albums-tracks))."
      ]
    },
    {
      "cell_type": "markdown",
      "metadata": {},
      "source": [
        "<a id='2'></a>\n",
        "## 2 - Understand the Basics of APIs\n",
        "\n",
        "Several packages in Python allow you to request data from an API; in this lab, you will use the `requests` package, which is a popular and versatile library to perform HTTP requests. It provides a simple and easy-to-use way to interact with web services and APIs. Let's load the required packages:"
      ]
    },
    {
      "cell_type": "code",
      "execution_count": 1,
      "metadata": {},
      "outputs": [],
      "source": [
        "import os\n",
        "from typing import Dict, Any, Callable\n",
        "\n",
        "from dotenv import load_dotenv\n",
        "import json\n",
        "import requests "
      ]
    },
    {
      "cell_type": "markdown",
      "metadata": {},
      "source": [
        "<a id='2-1'></a>\n",
        "### 2.1 - Get Token\n",
        "\n",
        "The first step when working with an API is to understand the authentication process. For that, the Spotify APP generates a Client ID and a Client secret that you will use to generate an access token. The access token is a string that contains the credentials and permissions that you can use to access a given resource. You can find more about it in the [API documentation](https://developer.spotify.com/documentation/web-api/concepts/access-token). Since each API is developed with a particular purpose, it is necessary for you to always read and understand the nuances of each API so you can access the data responsibly. Throughout this lab, you will be provided with several links to the documentation and you are encouraged to read them. (During the lab session, you may quickly skim through the links, but you can always check them in more details after the lab session). \n",
        "\n",
        "Let's create some variables to hold the values of the client_id and client_secret that you stored in the src/env file."
      ]
    },
    {
      "cell_type": "code",
      "execution_count": 2,
      "metadata": {},
      "outputs": [],
      "source": [
        "load_dotenv('./src/env', override=True)\n",
        "\n",
        "CLIENT_ID = os.getenv('CLIENT_ID')\n",
        "CLIENT_SECRET = os.getenv('CLIENT_SECRET')"
      ]
    },
    {
      "cell_type": "markdown",
      "metadata": {},
      "source": [
        "The `get_token` function below takes a Client ID, Client secret and a URL as input, and performs a POST request to that URL to obtain an access token using the client credentials. Run the following cell to get the access token."
      ]
    },
    {
      "cell_type": "code",
      "execution_count": 3,
      "metadata": {},
      "outputs": [
        {
          "name": "stdout",
          "output_type": "stream",
          "text": [
            "<class 'requests.models.Response'>\n",
            "{'access_token': 'BQDclX2vkSxy_NyjLGexpViaHLj7STPeQsQvCQHW3eKf98FHVFBGg4EaDB1CeQhaejb7MiyA1Gv8vuTNp3KTG5QQMVS7NevGMnaYqycFRiIHtCOQvSqGXtEqjGun5Kz4s47hDMiJGqo', 'token_type': 'Bearer', 'expires_in': 3600}\n"
          ]
        }
      ],
      "source": [
        "def get_token(client_id: str, client_secret: str, url: str) -> Dict[Any, Any]:\n",
        "    \"\"\"Allows to perform a POST request to obtain an access token \n",
        "\n",
        "    Args:\n",
        "        client_id (str): App client id\n",
        "        client_secret (str): App client secret\n",
        "        url (str): URL to perform the post request\n",
        "\n",
        "    Returns:\n",
        "        Dict[Any, Any]: Dictionary containing the access token\n",
        "    \"\"\"\n",
        "        \n",
        "    headers = {        \n",
        "        \"Content-Type\": \"application/x-www-form-urlencoded\"            \n",
        "    }\n",
        "    \n",
        "    payload = {\n",
        "                \"grant_type\": \"client_credentials\", \n",
        "                \"client_id\": client_id, \n",
        "                \"client_secret\": client_secret\n",
        "               }\n",
        "    \n",
        "    try: \n",
        "        response = requests.post(url=url, headers=headers, data=payload)\n",
        "        print(type(response))\n",
        "        response.raise_for_status()\n",
        "        response_json = json.loads(response.content)\n",
        "        \n",
        "        return response_json\n",
        "        \n",
        "    except Exception as err:\n",
        "        print(f\"Error: {err}\")\n",
        "        return {}\n",
        "\n",
        "URL_TOKEN=\"https://accounts.spotify.com/api/token\"\n",
        "token = get_token(client_id=CLIENT_ID, client_secret=CLIENT_SECRET, url=URL_TOKEN)\n",
        "\n",
        "print(token)"
      ]
    },
    {
      "cell_type": "markdown",
      "metadata": {},
      "source": [
        "You can see that you are provided with a temporary access token. The `expires_in` field tells you the duration of this token in seconds. When this token expires, your requests will fail and an error object will be returned to you holding a status code of 401. This status code means that the request is unauthorized.\n",
        "\n",
        "Whenever you send an API request to the spotify API, you need to include in the request the access token, as an authorization header following a certain format. You are provided with the function `get_auth_header`. This function expects the access token and returns the authorization header that can be included in the API request. \n",
        "\n",
        "Make sure to run the following cell to declare the function `get_auth_header`, which you will use throughout this lab."
      ]
    },
    {
      "cell_type": "code",
      "execution_count": 4,
      "metadata": {},
      "outputs": [],
      "source": [
        "def get_auth_header(access_token: str) -> Dict[str, str]:\n",
        "    return {\"Authorization\": f\"Bearer {access_token}\"}"
      ]
    },
    {
      "cell_type": "markdown",
      "metadata": {},
      "source": [
        "Now, let's use the token to perform a request to access the first resource, which is the [new releases](https://developer.spotify.com/documentation/web-api/reference/get-new-releases)."
      ]
    },
    {
      "cell_type": "markdown",
      "metadata": {},
      "source": [
        "<a id='2-2'></a>\n",
        "### 2.2 - Get New Releases"
      ]
    },
    {
      "cell_type": "markdown",
      "metadata": {},
      "source": [
        "<a id='ex01'></a>\n",
        "### Exercise 1\n",
        "\n",
        "Follow the instructions to complete the `get_new_releases` function:\n",
        "\n",
        "1. Call the function `get_auth_header`and pass to it the access token (which is specified as input to the `get_new_releases` function). Save the output of `get_auth_header` to a variable called `headers`.\n",
        "2. You are provided with the URL in the `request_url` variable. Use this URL and the header from the previous step to perform a `get()` request. \n",
        "3. Request `response` is an object of type `requests.models.Response`. This object has a method named `json()` that allows you to transform the response content into a JSON object or plain Python dictionary. Use this method on the `response` object to return the content as a Python dictionary.\n",
        "\n",
        "Then you will use the provided `URL_NEW_RELEASES` URL or endpoint to perform calls to the API, passing the `access_token` value from the `token` object that you obtained before."
      ]
    },
    {
      "cell_type": "code",
      "execution_count": 36,
      "metadata": {},
      "outputs": [],
      "source": [
        "def get_new_releases(url: str, access_token: str, offset: int=0, limit: int=20, next: str=\"\") -> Dict[Any, Any]:\n",
        "    \"\"\"Perform get() request to new releases endpoint\n",
        "\n",
        "    Args:\n",
        "        url (str): Base url for the request\n",
        "        access_token (str): Access token\n",
        "        offset (int, optional): Page offset for pagination. Defaults to 0.\n",
        "        limit (int, optional): Number of elements per page. Defaults to 20.\n",
        "        next (str, optional): Next URL to perform next request. Defaults to \"\".\n",
        "\n",
        "    Returns:\n",
        "        Dict[Any, Any]: Request response\n",
        "    \"\"\"\n",
        "\n",
        "    if next == \"\":        \n",
        "        request_url = f\"{url}?offset={offset}&limit={limit}\"\n",
        "    else: \n",
        "        request_url = f\"{next}\"\n",
        "\n",
        "    ### START CODE HERE ### (~ 4 lines of code)\n",
        "    # Call get_auth_header() function and pass the access token.\n",
        "    headers = get_auth_header(access_token=access_token)\n",
        "    \n",
        "    try: \n",
        "        # Perform a get() request using the request_url and headers.\n",
        "        response = requests.get(url=request_url, headers=headers)\n",
        "        # Use json() method over the response to return it as Python dictionary.\n",
        "        return response.json()\n",
        "    ### END CODE HERE ###\n",
        "    \n",
        "    except Exception as err:\n",
        "        print(f\"Error requesting data: {err}\")\n",
        "        return {'error': err}\n",
        "        \n",
        "URL_NEW_RELEASES = \"https://api.spotify.com/v1/browse/new-releases\"\n",
        "\n",
        "# Note: the `access_token` value from the dictionary `token` can be retrieved either using `get()` method or dictionary syntax `token['access_token']`\n",
        "releases_response = get_new_releases(url=URL_NEW_RELEASES, access_token=token.get('access_token'))"
      ]
    },
    {
      "cell_type": "markdown",
      "metadata": {},
      "source": [
        "The result you get is a JSON object that was transformed into a python dictionary. You can explore the structure of the response you get:"
      ]
    },
    {
      "cell_type": "code",
      "execution_count": 6,
      "metadata": {
        "exercise": [
          "ex01"
        ],
        "tags": [
          "graded"
        ]
      },
      "outputs": [
        {
          "data": {
            "text/plain": [
              "dict_keys(['albums'])"
            ]
          },
          "execution_count": 6,
          "metadata": {},
          "output_type": "execute_result"
        }
      ],
      "source": [
        "releases_response.keys()"
      ]
    },
    {
      "cell_type": "code",
      "execution_count": 7,
      "metadata": {},
      "outputs": [
        {
          "data": {
            "text/plain": [
              "dict_keys(['href', 'items', 'limit', 'next', 'offset', 'previous', 'total'])"
            ]
          },
          "execution_count": 7,
          "metadata": {},
          "output_type": "execute_result"
        }
      ],
      "source": [
        "releases_response.get('albums').keys()"
      ]
    },
    {
      "cell_type": "markdown",
      "metadata": {},
      "source": [
        "Each API manages responses in its own way so it is highly recommended to read the documentation and understand the nuances behind the API endpoints you are working with. In this case, you see some fields such as `'href'` under the `'albums'` field, which tells you the URL used for the request you just sent."
      ]
    },
    {
      "cell_type": "code",
      "execution_count": 8,
      "metadata": {},
      "outputs": [
        {
          "data": {
            "text/plain": [
              "100"
            ]
          },
          "execution_count": 8,
          "metadata": {},
          "output_type": "execute_result"
        }
      ],
      "source": [
        "releases_response.get('albums').get('total')"
      ]
    },
    {
      "cell_type": "markdown",
      "metadata": {},
      "source": [
        "You can see that there are two parameters: `offset` and `limit` that were added to the endpoint. Those parameters are the base of pagination in this API endpoint. We will take a look at them later. \n",
        "\n",
        "You can also explore the returned items using the `'items'` field under `'albums'`. This will return a list of items, you can take a look at the number of items returned:"
      ]
    },
    {
      "cell_type": "code",
      "execution_count": 9,
      "metadata": {},
      "outputs": [
        {
          "data": {
            "text/plain": [
              "20"
            ]
          },
          "execution_count": 9,
          "metadata": {},
          "output_type": "execute_result"
        }
      ],
      "source": [
        "len(releases_response.get('albums').get('items'))"
      ]
    },
    {
      "cell_type": "markdown",
      "metadata": {},
      "source": [
        "Explore the items:"
      ]
    },
    {
      "cell_type": "code",
      "execution_count": 10,
      "metadata": {},
      "outputs": [
        {
          "data": {
            "text/plain": [
              "{'album_type': 'album',\n",
              " 'artists': [{'external_urls': {'spotify': 'https://open.spotify.com/artist/06HL4z0CvFAxyc27GXpf02'},\n",
              "   'href': 'https://api.spotify.com/v1/artists/06HL4z0CvFAxyc27GXpf02',\n",
              "   'id': '06HL4z0CvFAxyc27GXpf02',\n",
              "   'name': 'Taylor Swift',\n",
              "   'type': 'artist',\n",
              "   'uri': 'spotify:artist:06HL4z0CvFAxyc27GXpf02'}],\n",
              " 'available_markets': ['AR',\n",
              "  'AU',\n",
              "  'AT',\n",
              "  'BE',\n",
              "  'BO',\n",
              "  'BR',\n",
              "  'BG',\n",
              "  'CA',\n",
              "  'CL',\n",
              "  'CO',\n",
              "  'CR',\n",
              "  'CY',\n",
              "  'CZ',\n",
              "  'DK',\n",
              "  'DO',\n",
              "  'DE',\n",
              "  'EC',\n",
              "  'EE',\n",
              "  'SV',\n",
              "  'FI',\n",
              "  'FR',\n",
              "  'GR',\n",
              "  'GT',\n",
              "  'HN',\n",
              "  'HK',\n",
              "  'HU',\n",
              "  'IS',\n",
              "  'IE',\n",
              "  'IT',\n",
              "  'LV',\n",
              "  'LT',\n",
              "  'LU',\n",
              "  'MY',\n",
              "  'MT',\n",
              "  'MX',\n",
              "  'NL',\n",
              "  'NZ',\n",
              "  'NI',\n",
              "  'NO',\n",
              "  'PA',\n",
              "  'PY',\n",
              "  'PE',\n",
              "  'PH',\n",
              "  'PL',\n",
              "  'PT',\n",
              "  'SG',\n",
              "  'SK',\n",
              "  'ES',\n",
              "  'SE',\n",
              "  'CH',\n",
              "  'TW',\n",
              "  'TR',\n",
              "  'UY',\n",
              "  'US',\n",
              "  'GB',\n",
              "  'AD',\n",
              "  'LI',\n",
              "  'MC',\n",
              "  'ID',\n",
              "  'JP',\n",
              "  'TH',\n",
              "  'VN',\n",
              "  'RO',\n",
              "  'IL',\n",
              "  'ZA',\n",
              "  'SA',\n",
              "  'AE',\n",
              "  'BH',\n",
              "  'QA',\n",
              "  'OM',\n",
              "  'KW',\n",
              "  'EG',\n",
              "  'MA',\n",
              "  'DZ',\n",
              "  'TN',\n",
              "  'LB',\n",
              "  'JO',\n",
              "  'PS',\n",
              "  'IN',\n",
              "  'KZ',\n",
              "  'MD',\n",
              "  'UA',\n",
              "  'AL',\n",
              "  'BA',\n",
              "  'HR',\n",
              "  'ME',\n",
              "  'MK',\n",
              "  'RS',\n",
              "  'SI',\n",
              "  'KR',\n",
              "  'BD',\n",
              "  'PK',\n",
              "  'LK',\n",
              "  'GH',\n",
              "  'KE',\n",
              "  'NG',\n",
              "  'TZ',\n",
              "  'UG',\n",
              "  'AG',\n",
              "  'AM',\n",
              "  'BS',\n",
              "  'BB',\n",
              "  'BZ',\n",
              "  'BT',\n",
              "  'BW',\n",
              "  'BF',\n",
              "  'CV',\n",
              "  'CW',\n",
              "  'DM',\n",
              "  'FJ',\n",
              "  'GM',\n",
              "  'GE',\n",
              "  'GD',\n",
              "  'GW',\n",
              "  'GY',\n",
              "  'HT',\n",
              "  'JM',\n",
              "  'KI',\n",
              "  'LS',\n",
              "  'LR',\n",
              "  'MW',\n",
              "  'MV',\n",
              "  'ML',\n",
              "  'MH',\n",
              "  'FM',\n",
              "  'NA',\n",
              "  'NR',\n",
              "  'NE',\n",
              "  'PW',\n",
              "  'PG',\n",
              "  'WS',\n",
              "  'SM',\n",
              "  'ST',\n",
              "  'SN',\n",
              "  'SC',\n",
              "  'SL',\n",
              "  'SB',\n",
              "  'KN',\n",
              "  'LC',\n",
              "  'VC',\n",
              "  'SR',\n",
              "  'TL',\n",
              "  'TO',\n",
              "  'TT',\n",
              "  'TV',\n",
              "  'VU',\n",
              "  'AZ',\n",
              "  'BN',\n",
              "  'BI',\n",
              "  'KH',\n",
              "  'CM',\n",
              "  'TD',\n",
              "  'KM',\n",
              "  'GQ',\n",
              "  'SZ',\n",
              "  'GA',\n",
              "  'GN',\n",
              "  'KG',\n",
              "  'LA',\n",
              "  'MO',\n",
              "  'MR',\n",
              "  'MN',\n",
              "  'NP',\n",
              "  'RW',\n",
              "  'TG',\n",
              "  'UZ',\n",
              "  'ZW',\n",
              "  'BJ',\n",
              "  'MG',\n",
              "  'MU',\n",
              "  'MZ',\n",
              "  'AO',\n",
              "  'CI',\n",
              "  'DJ',\n",
              "  'ZM',\n",
              "  'CD',\n",
              "  'CG',\n",
              "  'IQ',\n",
              "  'LY',\n",
              "  'TJ',\n",
              "  'VE',\n",
              "  'ET',\n",
              "  'XK'],\n",
              " 'external_urls': {'spotify': 'https://open.spotify.com/album/1Mo4aZ8pdj6L1jx8zSwJnt'},\n",
              " 'href': 'https://api.spotify.com/v1/albums/1Mo4aZ8pdj6L1jx8zSwJnt',\n",
              " 'id': '1Mo4aZ8pdj6L1jx8zSwJnt',\n",
              " 'images': [{'height': 300,\n",
              "   'url': 'https://i.scdn.co/image/ab67616d00001e025076e4160d018e378f488c33',\n",
              "   'width': 300},\n",
              "  {'height': 64,\n",
              "   'url': 'https://i.scdn.co/image/ab67616d000048515076e4160d018e378f488c33',\n",
              "   'width': 64},\n",
              "  {'height': 640,\n",
              "   'url': 'https://i.scdn.co/image/ab67616d0000b2735076e4160d018e378f488c33',\n",
              "   'width': 640}],\n",
              " 'name': 'THE TORTURED POETS DEPARTMENT',\n",
              " 'release_date': '2024-04-18',\n",
              " 'release_date_precision': 'day',\n",
              " 'total_tracks': 16,\n",
              " 'type': 'album',\n",
              " 'uri': 'spotify:album:1Mo4aZ8pdj6L1jx8zSwJnt'}"
            ]
          },
          "execution_count": 10,
          "metadata": {},
          "output_type": "execute_result"
        }
      ],
      "source": [
        "releases_response.get('albums').get('items')[0]"
      ]
    },
    {
      "cell_type": "code",
      "execution_count": 11,
      "metadata": {},
      "outputs": [
        {
          "name": "stdout",
          "output_type": "stream",
          "text": [
            "{'albums': {'href': 'https://api.spotify.com/v1/browse/new-releases?offset=0&limit=20', 'items': [{'album_type': 'album', 'artists': [{'external_urls': {'spotify': 'https://open.spotify.com/artist/06HL4z0CvFAxyc27GXpf02'}, 'href': 'https://api.spotify.com/v1/artists/06HL4z0CvFAxyc27GXpf02', 'id': '06HL4z0CvFAxyc27GXpf02', 'name': 'Taylor Swift', 'type': 'artist', 'uri': 'spotify:artist:06HL4z0CvFAxyc27GXpf02'}], 'available_markets': ['AR', 'AU', 'AT', 'BE', 'BO', 'BR', 'BG', 'CA', 'CL', 'CO', 'CR', 'CY', 'CZ', 'DK', 'DO', 'DE', 'EC', 'EE', 'SV', 'FI', 'FR', 'GR', 'GT', 'HN', 'HK', 'HU', 'IS', 'IE', 'IT', 'LV', 'LT', 'LU', 'MY', 'MT', 'MX', 'NL', 'NZ', 'NI', 'NO', 'PA', 'PY', 'PE', 'PH', 'PL', 'PT', 'SG', 'SK', 'ES', 'SE', 'CH', 'TW', 'TR', 'UY', 'US', 'GB', 'AD', 'LI', 'MC', 'ID', 'JP', 'TH', 'VN', 'RO', 'IL', 'ZA', 'SA', 'AE', 'BH', 'QA', 'OM', 'KW', 'EG', 'MA', 'DZ', 'TN', 'LB', 'JO', 'PS', 'IN', 'KZ', 'MD', 'UA', 'AL', 'BA', 'HR', 'ME', 'MK', 'RS', 'SI', 'KR', 'BD', 'PK', 'LK', 'GH', 'KE', 'NG', 'TZ', 'UG', 'AG', 'AM', 'BS', 'BB', 'BZ', 'BT', 'BW', 'BF', 'CV', 'CW', 'DM', 'FJ', 'GM', 'GE', 'GD', 'GW', 'GY', 'HT', 'JM', 'KI', 'LS', 'LR', 'MW', 'MV', 'ML', 'MH', 'FM', 'NA', 'NR', 'NE', 'PW', 'PG', 'WS', 'SM', 'ST', 'SN', 'SC', 'SL', 'SB', 'KN', 'LC', 'VC', 'SR', 'TL', 'TO', 'TT', 'TV', 'VU', 'AZ', 'BN', 'BI', 'KH', 'CM', 'TD', 'KM', 'GQ', 'SZ', 'GA', 'GN', 'KG', 'LA', 'MO', 'MR', 'MN', 'NP', 'RW', 'TG', 'UZ', 'ZW', 'BJ', 'MG', 'MU', 'MZ', 'AO', 'CI', 'DJ', 'ZM', 'CD', 'CG', 'IQ', 'LY', 'TJ', 'VE', 'ET', 'XK'], 'external_urls': {'spotify': 'https://open.spotify.com/album/1Mo4aZ8pdj6L1jx8zSwJnt'}, 'href': 'https://api.spotify.com/v1/albums/1Mo4aZ8pdj6L1jx8zSwJnt', 'id': '1Mo4aZ8pdj6L1jx8zSwJnt', 'images': [{'height': 300, 'url': 'https://i.scdn.co/image/ab67616d00001e025076e4160d018e378f488c33', 'width': 300}, {'height': 64, 'url': 'https://i.scdn.co/image/ab67616d000048515076e4160d018e378f488c33', 'width': 64}, {'height': 640, 'url': 'https://i.scdn.co/image/ab67616d0000b2735076e4160d018e378f488c33', 'width': 640}], 'name': 'THE TORTURED POETS DEPARTMENT', 'release_date': '2024-04-18', 'release_date_precision': 'day', 'total_tracks': 16, 'type': 'album', 'uri': 'spotify:album:1Mo4aZ8pdj6L1jx8zSwJnt'}, {'album_type': 'album', 'artists': [{'external_urls': {'spotify': 'https://open.spotify.com/artist/1w5Kfo2jwwIPruYS2UWh56'}, 'href': 'https://api.spotify.com/v1/artists/1w5Kfo2jwwIPruYS2UWh56', 'id': '1w5Kfo2jwwIPruYS2UWh56', 'name': 'Pearl Jam', 'type': 'artist', 'uri': 'spotify:artist:1w5Kfo2jwwIPruYS2UWh56'}], 'available_markets': ['AR', 'AU', 'AT', 'BE', 'BO', 'BR', 'BG', 'CA', 'CL', 'CO', 'CR', 'CY', 'CZ', 'DK', 'DO', 'DE', 'EC', 'EE', 'SV', 'FI', 'FR', 'GR', 'GT', 'HN', 'HK', 'HU', 'IS', 'IE', 'IT', 'LV', 'LT', 'LU', 'MY', 'MT', 'MX', 'NL', 'NZ', 'NI', 'NO', 'PA', 'PY', 'PE', 'PH', 'PL', 'PT', 'SG', 'SK', 'ES', 'SE', 'CH', 'TW', 'TR', 'UY', 'US', 'GB', 'AD', 'LI', 'MC', 'ID', 'JP', 'TH', 'VN', 'RO', 'IL', 'ZA', 'SA', 'AE', 'BH', 'QA', 'OM', 'KW', 'EG', 'MA', 'DZ', 'TN', 'LB', 'JO', 'PS', 'IN', 'KZ', 'MD', 'UA', 'AL', 'BA', 'HR', 'ME', 'MK', 'RS', 'SI', 'KR', 'BD', 'PK', 'LK', 'GH', 'KE', 'NG', 'TZ', 'UG', 'AG', 'AM', 'BS', 'BB', 'BZ', 'BT', 'BW', 'BF', 'CV', 'CW', 'DM', 'FJ', 'GM', 'GE', 'GD', 'GW', 'GY', 'HT', 'JM', 'KI', 'LS', 'LR', 'MW', 'MV', 'ML', 'MH', 'FM', 'NA', 'NR', 'NE', 'PW', 'PG', 'WS', 'SM', 'ST', 'SN', 'SC', 'SL', 'SB', 'KN', 'LC', 'VC', 'SR', 'TL', 'TO', 'TT', 'TV', 'VU', 'AZ', 'BN', 'BI', 'KH', 'CM', 'TD', 'KM', 'GQ', 'SZ', 'GA', 'GN', 'KG', 'LA', 'MO', 'MR', 'MN', 'NP', 'RW', 'TG', 'UZ', 'ZW', 'BJ', 'MG', 'MU', 'MZ', 'AO', 'CI', 'DJ', 'ZM', 'CD', 'CG', 'IQ', 'LY', 'TJ', 'VE', 'ET', 'XK'], 'external_urls': {'spotify': 'https://open.spotify.com/album/7MNrrItJpom6uMJWdT0XD8'}, 'href': 'https://api.spotify.com/v1/albums/7MNrrItJpom6uMJWdT0XD8', 'id': '7MNrrItJpom6uMJWdT0XD8', 'images': [{'height': 300, 'url': 'https://i.scdn.co/image/ab67616d00001e026fcdcbbd9cae9001ca5b20d5', 'width': 300}, {'height': 64, 'url': 'https://i.scdn.co/image/ab67616d000048516fcdcbbd9cae9001ca5b20d5', 'width': 64}, {'height': 640, 'url': 'https://i.scdn.co/image/ab67616d0000b2736fcdcbbd9cae9001ca5b20d5', 'width': 640}], 'name': 'Dark Matter', 'release_date': '2024-04-19', 'release_date_precision': 'day', 'total_tracks': 11, 'type': 'album', 'uri': 'spotify:album:7MNrrItJpom6uMJWdT0XD8'}, {'album_type': 'single', 'artists': [{'external_urls': {'spotify': 'https://open.spotify.com/artist/5Vuvs6Py2JRU7WiFDVsI7J'}, 'href': 'https://api.spotify.com/v1/artists/5Vuvs6Py2JRU7WiFDVsI7J', 'id': '5Vuvs6Py2JRU7WiFDVsI7J', 'name': 'Lucky Daye', 'type': 'artist', 'uri': 'spotify:artist:5Vuvs6Py2JRU7WiFDVsI7J'}], 'available_markets': ['AR', 'AU', 'AT', 'BE', 'BO', 'BR', 'BG', 'CA', 'CL', 'CO', 'CR', 'CY', 'CZ', 'DK', 'DO', 'DE', 'EC', 'EE', 'SV', 'FI', 'FR', 'GR', 'GT', 'HN', 'HK', 'HU', 'IS', 'IE', 'IT', 'LV', 'LT', 'LU', 'MY', 'MT', 'MX', 'NL', 'NZ', 'NI', 'NO', 'PA', 'PY', 'PE', 'PH', 'PL', 'PT', 'SG', 'SK', 'ES', 'SE', 'CH', 'TW', 'TR', 'UY', 'US', 'GB', 'AD', 'LI', 'MC', 'ID', 'JP', 'TH', 'VN', 'RO', 'IL', 'ZA', 'SA', 'AE', 'BH', 'QA', 'OM', 'KW', 'EG', 'MA', 'DZ', 'TN', 'LB', 'JO', 'PS', 'IN', 'BY', 'KZ', 'MD', 'UA', 'AL', 'BA', 'HR', 'ME', 'MK', 'RS', 'SI', 'KR', 'BD', 'PK', 'LK', 'GH', 'KE', 'NG', 'TZ', 'UG', 'AG', 'AM', 'BS', 'BB', 'BZ', 'BT', 'BW', 'BF', 'CV', 'CW', 'DM', 'FJ', 'GM', 'GE', 'GD', 'GW', 'GY', 'HT', 'JM', 'KI', 'LS', 'LR', 'MW', 'MV', 'ML', 'MH', 'FM', 'NA', 'NR', 'NE', 'PW', 'PG', 'PR', 'WS', 'SM', 'ST', 'SN', 'SC', 'SL', 'SB', 'KN', 'LC', 'VC', 'SR', 'TL', 'TO', 'TT', 'TV', 'VU', 'AZ', 'BN', 'BI', 'KH', 'CM', 'TD', 'KM', 'GQ', 'SZ', 'GA', 'GN', 'KG', 'LA', 'MO', 'MR', 'MN', 'NP', 'RW', 'TG', 'UZ', 'ZW', 'BJ', 'MG', 'MU', 'MZ', 'AO', 'CI', 'DJ', 'ZM', 'CD', 'CG', 'IQ', 'LY', 'TJ', 'VE', 'ET', 'XK'], 'external_urls': {'spotify': 'https://open.spotify.com/album/4YQ8O3PQb7cZnnLeqNPaa1'}, 'href': 'https://api.spotify.com/v1/albums/4YQ8O3PQb7cZnnLeqNPaa1', 'id': '4YQ8O3PQb7cZnnLeqNPaa1', 'images': [{'height': 300, 'url': 'https://i.scdn.co/image/ab67616d00001e028a9dc89bd612b7f4670e2390', 'width': 300}, {'height': 64, 'url': 'https://i.scdn.co/image/ab67616d000048518a9dc89bd612b7f4670e2390', 'width': 64}, {'height': 640, 'url': 'https://i.scdn.co/image/ab67616d0000b2738a9dc89bd612b7f4670e2390', 'width': 640}], 'name': 'HERicane', 'release_date': '2024-04-19', 'release_date_precision': 'day', 'total_tracks': 1, 'type': 'album', 'uri': 'spotify:album:4YQ8O3PQb7cZnnLeqNPaa1'}, {'album_type': 'single', 'artists': [{'external_urls': {'spotify': 'https://open.spotify.com/artist/540vIaP2JwjQb9dm3aArA4'}, 'href': 'https://api.spotify.com/v1/artists/540vIaP2JwjQb9dm3aArA4', 'id': '540vIaP2JwjQb9dm3aArA4', 'name': 'DJ Snake', 'type': 'artist', 'uri': 'spotify:artist:540vIaP2JwjQb9dm3aArA4'}, {'external_urls': {'spotify': 'https://open.spotify.com/artist/12GqGscKJx3aE4t07u7eVZ'}, 'href': 'https://api.spotify.com/v1/artists/12GqGscKJx3aE4t07u7eVZ', 'id': '12GqGscKJx3aE4t07u7eVZ', 'name': 'Peso Pluma', 'type': 'artist', 'uri': 'spotify:artist:12GqGscKJx3aE4t07u7eVZ'}], 'available_markets': ['AR', 'AU', 'AT', 'BE', 'BO', 'BR', 'BG', 'CA', 'CL', 'CO', 'CR', 'CY', 'CZ', 'DK', 'DO', 'DE', 'EC', 'EE', 'SV', 'FI', 'FR', 'GR', 'GT', 'HN', 'HK', 'HU', 'IS', 'IE', 'IT', 'LV', 'LT', 'LU', 'MY', 'MT', 'MX', 'NL', 'NZ', 'NI', 'NO', 'PA', 'PY', 'PE', 'PH', 'PL', 'PT', 'SG', 'SK', 'ES', 'SE', 'CH', 'TW', 'TR', 'UY', 'US', 'GB', 'AD', 'LI', 'MC', 'ID', 'JP', 'TH', 'VN', 'RO', 'IL', 'ZA', 'SA', 'AE', 'BH', 'QA', 'OM', 'KW', 'EG', 'MA', 'DZ', 'TN', 'LB', 'JO', 'PS', 'IN', 'KZ', 'MD', 'UA', 'AL', 'BA', 'HR', 'ME', 'MK', 'RS', 'SI', 'KR', 'BD', 'PK', 'LK', 'GH', 'KE', 'NG', 'TZ', 'UG', 'AG', 'AM', 'BS', 'BB', 'BZ', 'BT', 'BW', 'BF', 'CV', 'CW', 'DM', 'FJ', 'GM', 'GE', 'GD', 'GW', 'GY', 'HT', 'JM', 'KI', 'LS', 'LR', 'MW', 'MV', 'ML', 'MH', 'FM', 'NA', 'NR', 'NE', 'PW', 'PG', 'WS', 'SM', 'ST', 'SN', 'SC', 'SL', 'SB', 'KN', 'LC', 'VC', 'SR', 'TL', 'TO', 'TT', 'TV', 'VU', 'AZ', 'BN', 'BI', 'KH', 'CM', 'TD', 'KM', 'GQ', 'SZ', 'GA', 'GN', 'KG', 'LA', 'MO', 'MR', 'MN', 'NP', 'RW', 'TG', 'UZ', 'ZW', 'BJ', 'MG', 'MU', 'MZ', 'AO', 'CI', 'DJ', 'ZM', 'CD', 'CG', 'IQ', 'LY', 'TJ', 'VE', 'ET', 'XK'], 'external_urls': {'spotify': 'https://open.spotify.com/album/4MGpOqMU3FlZ7li35laoBu'}, 'href': 'https://api.spotify.com/v1/albums/4MGpOqMU3FlZ7li35laoBu', 'id': '4MGpOqMU3FlZ7li35laoBu', 'images': [{'height': 300, 'url': 'https://i.scdn.co/image/ab67616d00001e0224861100b34630be0af122ce', 'width': 300}, {'height': 64, 'url': 'https://i.scdn.co/image/ab67616d0000485124861100b34630be0af122ce', 'width': 64}, {'height': 640, 'url': 'https://i.scdn.co/image/ab67616d0000b27324861100b34630be0af122ce', 'width': 640}], 'name': 'Teka (with Peso Pluma)', 'release_date': '2024-04-17', 'release_date_precision': 'day', 'total_tracks': 1, 'type': 'album', 'uri': 'spotify:album:4MGpOqMU3FlZ7li35laoBu'}, {'album_type': 'album', 'artists': [{'external_urls': {'spotify': 'https://open.spotify.com/artist/75JvBeqW4BJ4xgnbMAq6MN'}, 'href': 'https://api.spotify.com/v1/artists/75JvBeqW4BJ4xgnbMAq6MN', 'id': '75JvBeqW4BJ4xgnbMAq6MN', 'name': 'Anne Wilson', 'type': 'artist', 'uri': 'spotify:artist:75JvBeqW4BJ4xgnbMAq6MN'}], 'available_markets': ['AR', 'AU', 'AT', 'BE', 'BO', 'BR', 'BG', 'CA', 'CL', 'CO', 'CR', 'CY', 'CZ', 'DK', 'DO', 'DE', 'EC', 'EE', 'SV', 'FI', 'FR', 'GR', 'GT', 'HN', 'HK', 'HU', 'IS', 'IE', 'IT', 'LV', 'LT', 'LU', 'MY', 'MT', 'MX', 'NL', 'NZ', 'NI', 'NO', 'PA', 'PY', 'PE', 'PH', 'PL', 'PT', 'SG', 'SK', 'ES', 'SE', 'CH', 'TW', 'TR', 'UY', 'US', 'GB', 'AD', 'LI', 'MC', 'ID', 'JP', 'TH', 'VN', 'RO', 'IL', 'ZA', 'SA', 'AE', 'BH', 'QA', 'OM', 'KW', 'EG', 'MA', 'DZ', 'TN', 'LB', 'JO', 'PS', 'IN', 'KZ', 'MD', 'UA', 'AL', 'BA', 'HR', 'ME', 'MK', 'RS', 'SI', 'KR', 'BD', 'PK', 'LK', 'GH', 'KE', 'NG', 'TZ', 'UG', 'AG', 'AM', 'BS', 'BB', 'BZ', 'BT', 'BW', 'BF', 'CV', 'CW', 'DM', 'FJ', 'GM', 'GE', 'GD', 'GW', 'GY', 'HT', 'JM', 'KI', 'LS', 'LR', 'MW', 'MV', 'ML', 'MH', 'FM', 'NA', 'NR', 'NE', 'PW', 'PG', 'WS', 'SM', 'ST', 'SN', 'SC', 'SL', 'SB', 'KN', 'LC', 'VC', 'SR', 'TL', 'TO', 'TT', 'TV', 'VU', 'AZ', 'BN', 'BI', 'KH', 'CM', 'TD', 'KM', 'GQ', 'SZ', 'GA', 'GN', 'KG', 'LA', 'MO', 'MR', 'MN', 'NP', 'RW', 'TG', 'UZ', 'ZW', 'BJ', 'MG', 'MU', 'MZ', 'AO', 'CI', 'DJ', 'ZM', 'CD', 'CG', 'IQ', 'LY', 'TJ', 'VE', 'ET', 'XK'], 'external_urls': {'spotify': 'https://open.spotify.com/album/0sJhrYC1988r2NNxsmzk3V'}, 'href': 'https://api.spotify.com/v1/albums/0sJhrYC1988r2NNxsmzk3V', 'id': '0sJhrYC1988r2NNxsmzk3V', 'images': [{'height': 300, 'url': 'https://i.scdn.co/image/ab67616d00001e02f7ee7120f7bf51045dff090d', 'width': 300}, {'height': 64, 'url': 'https://i.scdn.co/image/ab67616d00004851f7ee7120f7bf51045dff090d', 'width': 64}, {'height': 640, 'url': 'https://i.scdn.co/image/ab67616d0000b273f7ee7120f7bf51045dff090d', 'width': 640}], 'name': 'REBEL', 'release_date': '2024-04-19', 'release_date_precision': 'day', 'total_tracks': 16, 'type': 'album', 'uri': 'spotify:album:0sJhrYC1988r2NNxsmzk3V'}, {'album_type': 'single', 'artists': [{'external_urls': {'spotify': 'https://open.spotify.com/artist/20qISvAhX20dpIbOOzGK3q'}, 'href': 'https://api.spotify.com/v1/artists/20qISvAhX20dpIbOOzGK3q', 'id': '20qISvAhX20dpIbOOzGK3q', 'name': 'Nas', 'type': 'artist', 'uri': 'spotify:artist:20qISvAhX20dpIbOOzGK3q'}, {'external_urls': {'spotify': 'https://open.spotify.com/artist/6GEykX11lQqp92UVOQQCC7'}, 'href': 'https://api.spotify.com/v1/artists/6GEykX11lQqp92UVOQQCC7', 'id': '6GEykX11lQqp92UVOQQCC7', 'name': 'DJ Premier', 'type': 'artist', 'uri': 'spotify:artist:6GEykX11lQqp92UVOQQCC7'}], 'available_markets': ['AR', 'AU', 'AT', 'BE', 'BO', 'BR', 'BG', 'CA', 'CL', 'CO', 'CR', 'CY', 'CZ', 'DK', 'DO', 'DE', 'EC', 'EE', 'SV', 'FI', 'FR', 'GR', 'GT', 'HN', 'HK', 'HU', 'IS', 'IE', 'IT', 'LV', 'LT', 'LU', 'MY', 'MT', 'MX', 'NL', 'NZ', 'NI', 'NO', 'PA', 'PY', 'PE', 'PH', 'PL', 'PT', 'SG', 'SK', 'ES', 'SE', 'CH', 'TW', 'TR', 'UY', 'US', 'GB', 'AD', 'LI', 'MC', 'ID', 'JP', 'TH', 'VN', 'RO', 'IL', 'ZA', 'SA', 'AE', 'BH', 'QA', 'OM', 'KW', 'EG', 'MA', 'DZ', 'TN', 'LB', 'JO', 'PS', 'IN', 'BY', 'KZ', 'MD', 'UA', 'AL', 'BA', 'HR', 'ME', 'MK', 'RS', 'SI', 'KR', 'BD', 'PK', 'LK', 'GH', 'KE', 'NG', 'TZ', 'UG', 'AG', 'AM', 'BS', 'BB', 'BZ', 'BT', 'BW', 'BF', 'CV', 'CW', 'DM', 'FJ', 'GM', 'GE', 'GD', 'GW', 'GY', 'HT', 'JM', 'KI', 'LS', 'LR', 'MW', 'MV', 'ML', 'MH', 'FM', 'NA', 'NR', 'NE', 'PW', 'PG', 'PR', 'WS', 'SM', 'ST', 'SN', 'SC', 'SL', 'SB', 'KN', 'LC', 'VC', 'SR', 'TL', 'TO', 'TT', 'TV', 'VU', 'AZ', 'BN', 'BI', 'KH', 'CM', 'TD', 'KM', 'GQ', 'SZ', 'GA', 'GN', 'KG', 'LA', 'MO', 'MR', 'MN', 'NP', 'RW', 'TG', 'UZ', 'ZW', 'BJ', 'MG', 'MU', 'MZ', 'AO', 'CI', 'DJ', 'ZM', 'CD', 'CG', 'IQ', 'LY', 'TJ', 'VE', 'ET', 'XK'], 'external_urls': {'spotify': 'https://open.spotify.com/album/5nabWI5Yf9uYtDS79CXVHu'}, 'href': 'https://api.spotify.com/v1/albums/5nabWI5Yf9uYtDS79CXVHu', 'id': '5nabWI5Yf9uYtDS79CXVHu', 'images': [{'height': 300, 'url': 'https://i.scdn.co/image/ab67616d00001e02a56f5696231c1ad328fc9445', 'width': 300}, {'height': 64, 'url': 'https://i.scdn.co/image/ab67616d00004851a56f5696231c1ad328fc9445', 'width': 64}, {'height': 640, 'url': 'https://i.scdn.co/image/ab67616d0000b273a56f5696231c1ad328fc9445', 'width': 640}], 'name': 'Define My Name', 'release_date': '2024-04-19', 'release_date_precision': 'day', 'total_tracks': 1, 'type': 'album', 'uri': 'spotify:album:5nabWI5Yf9uYtDS79CXVHu'}, {'album_type': 'album', 'artists': [{'external_urls': {'spotify': 'https://open.spotify.com/artist/2FXC3k01G6Gw61bmprjgqS'}, 'href': 'https://api.spotify.com/v1/artists/2FXC3k01G6Gw61bmprjgqS', 'id': '2FXC3k01G6Gw61bmprjgqS', 'name': 'Hozier', 'type': 'artist', 'uri': 'spotify:artist:2FXC3k01G6Gw61bmprjgqS'}], 'available_markets': ['AR', 'AT', 'BE', 'BO', 'BR', 'BG', 'CL', 'CO', 'CR', 'CY', 'CZ', 'DK', 'DO', 'DE', 'EC', 'EE', 'SV', 'FI', 'FR', 'GR', 'GT', 'HN', 'HK', 'HU', 'IS', 'IE', 'IT', 'LV', 'LT', 'LU', 'MY', 'MT', 'MX', 'NL', 'NZ', 'NI', 'NO', 'PA', 'PY', 'PE', 'PH', 'PL', 'PT', 'SG', 'SK', 'ES', 'SE', 'CH', 'TW', 'TR', 'UY', 'GB', 'AD', 'LI', 'MC', 'ID', 'JP', 'TH', 'VN', 'RO', 'IL', 'ZA', 'SA', 'AE', 'BH', 'QA', 'OM', 'KW', 'EG', 'MA', 'DZ', 'TN', 'LB', 'JO', 'PS', 'IN', 'KZ', 'MD', 'UA', 'AL', 'BA', 'HR', 'ME', 'MK', 'RS', 'SI', 'KR', 'BD', 'PK', 'LK', 'GH', 'KE', 'NG', 'TZ', 'UG', 'AG', 'AM', 'BS', 'BB', 'BZ', 'BT', 'BW', 'BF', 'CV', 'CW', 'DM', 'FJ', 'GM', 'GE', 'GD', 'GW', 'GY', 'HT', 'JM', 'KI', 'LS', 'LR', 'MW', 'MV', 'ML', 'MH', 'FM', 'NA', 'NR', 'NE', 'PW', 'PG', 'WS', 'SM', 'ST', 'SN', 'SC', 'SL', 'SB', 'KN', 'LC', 'VC', 'SR', 'TL', 'TO', 'TT', 'TV', 'VU', 'AZ', 'BN', 'BI', 'KH', 'CM', 'TD', 'KM', 'GQ', 'SZ', 'GA', 'GN', 'KG', 'LA', 'MO', 'MR', 'MN', 'NP', 'RW', 'TG', 'UZ', 'ZW', 'BJ', 'MG', 'MU', 'MZ', 'AO', 'CI', 'DJ', 'ZM', 'CD', 'CG', 'IQ', 'LY', 'TJ', 'VE', 'ET', 'XK'], 'external_urls': {'spotify': 'https://open.spotify.com/album/7hf5xjz74wwX1wS76DU2Ik'}, 'href': 'https://api.spotify.com/v1/albums/7hf5xjz74wwX1wS76DU2Ik', 'id': '7hf5xjz74wwX1wS76DU2Ik', 'images': [{'height': 300, 'url': 'https://i.scdn.co/image/ab67616d00001e02f0722706190993eadd8ad6aa', 'width': 300}, {'height': 64, 'url': 'https://i.scdn.co/image/ab67616d00004851f0722706190993eadd8ad6aa', 'width': 64}, {'height': 640, 'url': 'https://i.scdn.co/image/ab67616d0000b273f0722706190993eadd8ad6aa', 'width': 640}], 'name': 'Wasteland, Baby! (Special Edition)', 'release_date': '2019-03-01', 'release_date_precision': 'day', 'total_tracks': 19, 'type': 'album', 'uri': 'spotify:album:7hf5xjz74wwX1wS76DU2Ik'}, {'album_type': 'single', 'artists': [{'external_urls': {'spotify': 'https://open.spotify.com/artist/7A0awCXkE1FtSU8B0qwOJQ'}, 'href': 'https://api.spotify.com/v1/artists/7A0awCXkE1FtSU8B0qwOJQ', 'id': '7A0awCXkE1FtSU8B0qwOJQ', 'name': 'Jamie xx', 'type': 'artist', 'uri': 'spotify:artist:7A0awCXkE1FtSU8B0qwOJQ'}, {'external_urls': {'spotify': 'https://open.spotify.com/artist/0XfQBWgzisaS9ltDV9bXAS'}, 'href': 'https://api.spotify.com/v1/artists/0XfQBWgzisaS9ltDV9bXAS', 'id': '0XfQBWgzisaS9ltDV9bXAS', 'name': 'Honey Dijon', 'type': 'artist', 'uri': 'spotify:artist:0XfQBWgzisaS9ltDV9bXAS'}], 'available_markets': ['AR', 'AU', 'AT', 'BE', 'BO', 'BR', 'BG', 'CA', 'CL', 'CO', 'CR', 'CY', 'CZ', 'DK', 'DO', 'DE', 'EC', 'EE', 'SV', 'FI', 'FR', 'GR', 'GT', 'HN', 'HK', 'HU', 'IS', 'IE', 'IT', 'LV', 'LT', 'LU', 'MY', 'MT', 'MX', 'NL', 'NZ', 'NI', 'NO', 'PA', 'PY', 'PE', 'PH', 'PL', 'PT', 'SG', 'SK', 'ES', 'SE', 'CH', 'TW', 'TR', 'UY', 'US', 'GB', 'AD', 'LI', 'MC', 'ID', 'JP', 'TH', 'VN', 'RO', 'IL', 'ZA', 'SA', 'AE', 'BH', 'QA', 'OM', 'KW', 'EG', 'MA', 'DZ', 'TN', 'LB', 'JO', 'PS', 'IN', 'BY', 'KZ', 'MD', 'UA', 'AL', 'BA', 'HR', 'ME', 'MK', 'RS', 'SI', 'KR', 'BD', 'PK', 'LK', 'GH', 'KE', 'NG', 'TZ', 'UG', 'AG', 'AM', 'BS', 'BB', 'BZ', 'BT', 'BW', 'BF', 'CV', 'CW', 'DM', 'FJ', 'GM', 'GE', 'GD', 'GW', 'GY', 'HT', 'JM', 'KI', 'LS', 'LR', 'MW', 'MV', 'ML', 'MH', 'FM', 'NA', 'NR', 'NE', 'PW', 'PG', 'PR', 'WS', 'SM', 'ST', 'SN', 'SC', 'SL', 'SB', 'KN', 'LC', 'VC', 'SR', 'TL', 'TO', 'TT', 'TV', 'VU', 'AZ', 'BN', 'BI', 'KH', 'CM', 'TD', 'KM', 'GQ', 'SZ', 'GA', 'GN', 'KG', 'LA', 'MO', 'MR', 'MN', 'NP', 'RW', 'TG', 'UZ', 'ZW', 'BJ', 'MG', 'MU', 'MZ', 'AO', 'CI', 'DJ', 'ZM', 'CD', 'CG', 'IQ', 'LY', 'TJ', 'VE', 'ET', 'XK'], 'external_urls': {'spotify': 'https://open.spotify.com/album/2fDJNwprKYSK4ovmRzcoe4'}, 'href': 'https://api.spotify.com/v1/albums/2fDJNwprKYSK4ovmRzcoe4', 'id': '2fDJNwprKYSK4ovmRzcoe4', 'images': [{'height': 300, 'url': 'https://i.scdn.co/image/ab67616d00001e02ed5478e72ea12a7cc9bdaeac', 'width': 300}, {'height': 64, 'url': 'https://i.scdn.co/image/ab67616d00004851ed5478e72ea12a7cc9bdaeac', 'width': 64}, {'height': 640, 'url': 'https://i.scdn.co/image/ab67616d0000b273ed5478e72ea12a7cc9bdaeac', 'width': 640}], 'name': 'Baddy On The Floor', 'release_date': '2024-04-15', 'release_date_precision': 'day', 'total_tracks': 1, 'type': 'album', 'uri': 'spotify:album:2fDJNwprKYSK4ovmRzcoe4'}, {'album_type': 'single', 'artists': [{'external_urls': {'spotify': 'https://open.spotify.com/artist/23fqKkggKUBHNkbKtXEls4'}, 'href': 'https://api.spotify.com/v1/artists/23fqKkggKUBHNkbKtXEls4', 'id': '23fqKkggKUBHNkbKtXEls4', 'name': 'Kygo', 'type': 'artist', 'uri': 'spotify:artist:23fqKkggKUBHNkbKtXEls4'}, {'external_urls': {'spotify': 'https://open.spotify.com/artist/6Gk5hoM7eW8NSCYhICMDHw'}, 'href': 'https://api.spotify.com/v1/artists/6Gk5hoM7eW8NSCYhICMDHw', 'id': '6Gk5hoM7eW8NSCYhICMDHw', 'name': 'Zak Abel', 'type': 'artist', 'uri': 'spotify:artist:6Gk5hoM7eW8NSCYhICMDHw'}, {'external_urls': {'spotify': 'https://open.spotify.com/artist/3yDIp0kaq9EFKe07X1X2rz'}, 'href': 'https://api.spotify.com/v1/artists/3yDIp0kaq9EFKe07X1X2rz', 'id': '3yDIp0kaq9EFKe07X1X2rz', 'name': 'Nile Rodgers', 'type': 'artist', 'uri': 'spotify:artist:3yDIp0kaq9EFKe07X1X2rz'}], 'available_markets': ['AR', 'AU', 'AT', 'BE', 'BO', 'BR', 'BG', 'CA', 'CL', 'CO', 'CR', 'CY', 'CZ', 'DK', 'DO', 'DE', 'EC', 'EE', 'SV', 'FI', 'FR', 'GR', 'GT', 'HN', 'HK', 'HU', 'IS', 'IE', 'IT', 'LV', 'LT', 'LU', 'MY', 'MT', 'MX', 'NL', 'NZ', 'NI', 'NO', 'PA', 'PY', 'PE', 'PH', 'PL', 'PT', 'SG', 'SK', 'ES', 'SE', 'CH', 'TW', 'TR', 'UY', 'US', 'GB', 'AD', 'LI', 'MC', 'ID', 'JP', 'TH', 'VN', 'RO', 'IL', 'ZA', 'SA', 'AE', 'BH', 'QA', 'OM', 'KW', 'EG', 'MA', 'DZ', 'TN', 'LB', 'JO', 'PS', 'IN', 'BY', 'KZ', 'MD', 'UA', 'AL', 'BA', 'HR', 'ME', 'MK', 'RS', 'SI', 'KR', 'BD', 'PK', 'LK', 'GH', 'KE', 'NG', 'TZ', 'UG', 'AG', 'AM', 'BS', 'BB', 'BZ', 'BT', 'BW', 'BF', 'CV', 'CW', 'DM', 'FJ', 'GM', 'GE', 'GD', 'GW', 'GY', 'HT', 'JM', 'KI', 'LS', 'LR', 'MW', 'MV', 'ML', 'MH', 'FM', 'NA', 'NR', 'NE', 'PW', 'PG', 'PR', 'WS', 'SM', 'ST', 'SN', 'SC', 'SL', 'SB', 'KN', 'LC', 'VC', 'SR', 'TL', 'TO', 'TT', 'TV', 'VU', 'AZ', 'BN', 'BI', 'KH', 'CM', 'TD', 'KM', 'GQ', 'SZ', 'GA', 'GN', 'KG', 'LA', 'MO', 'MR', 'MN', 'NP', 'RW', 'TG', 'UZ', 'ZW', 'BJ', 'MG', 'MU', 'MZ', 'AO', 'CI', 'DJ', 'ZM', 'CD', 'CG', 'IQ', 'LY', 'TJ', 'VE', 'ET', 'XK'], 'external_urls': {'spotify': 'https://open.spotify.com/album/2Cqf3izEp75CqTKgul5Mi1'}, 'href': 'https://api.spotify.com/v1/albums/2Cqf3izEp75CqTKgul5Mi1', 'id': '2Cqf3izEp75CqTKgul5Mi1', 'images': [{'height': 300, 'url': 'https://i.scdn.co/image/ab67616d00001e027198e498826796ff81f560a7', 'width': 300}, {'height': 64, 'url': 'https://i.scdn.co/image/ab67616d000048517198e498826796ff81f560a7', 'width': 64}, {'height': 640, 'url': 'https://i.scdn.co/image/ab67616d0000b2737198e498826796ff81f560a7', 'width': 640}], 'name': 'For Life (feat. Nile Rodgers)', 'release_date': '2024-04-19', 'release_date_precision': 'day', 'total_tracks': 1, 'type': 'album', 'uri': 'spotify:album:2Cqf3izEp75CqTKgul5Mi1'}, {'album_type': 'single', 'artists': [{'external_urls': {'spotify': 'https://open.spotify.com/artist/51XrH5fQP2oIQynuKxSWcW'}, 'href': 'https://api.spotify.com/v1/artists/51XrH5fQP2oIQynuKxSWcW', 'id': '51XrH5fQP2oIQynuKxSWcW', 'name': 'Sky Rompiendo', 'type': 'artist', 'uri': 'spotify:artist:51XrH5fQP2oIQynuKxSWcW'}, {'external_urls': {'spotify': 'https://open.spotify.com/artist/1mcTU81TzQhprhouKaTkpq'}, 'href': 'https://api.spotify.com/v1/artists/1mcTU81TzQhprhouKaTkpq', 'id': '1mcTU81TzQhprhouKaTkpq', 'name': 'Rauw Alejandro', 'type': 'artist', 'uri': 'spotify:artist:1mcTU81TzQhprhouKaTkpq'}], 'available_markets': ['AR', 'AU', 'AT', 'BE', 'BO', 'BR', 'BG', 'CA', 'CL', 'CO', 'CR', 'CY', 'CZ', 'DK', 'DO', 'DE', 'EC', 'EE', 'SV', 'FI', 'FR', 'GR', 'GT', 'HN', 'HK', 'HU', 'IS', 'IE', 'IT', 'LV', 'LT', 'LU', 'MY', 'MT', 'MX', 'NL', 'NZ', 'NI', 'NO', 'PA', 'PY', 'PE', 'PH', 'PL', 'PT', 'SG', 'SK', 'ES', 'SE', 'CH', 'TW', 'TR', 'UY', 'US', 'GB', 'AD', 'LI', 'MC', 'ID', 'JP', 'TH', 'VN', 'RO', 'IL', 'ZA', 'SA', 'AE', 'BH', 'QA', 'OM', 'KW', 'EG', 'MA', 'DZ', 'TN', 'LB', 'JO', 'PS', 'IN', 'BY', 'KZ', 'MD', 'UA', 'AL', 'BA', 'HR', 'ME', 'MK', 'RS', 'SI', 'KR', 'BD', 'PK', 'LK', 'GH', 'KE', 'NG', 'TZ', 'UG', 'AG', 'AM', 'BS', 'BB', 'BZ', 'BT', 'BW', 'BF', 'CV', 'CW', 'DM', 'FJ', 'GM', 'GE', 'GD', 'GW', 'GY', 'HT', 'JM', 'KI', 'LS', 'LR', 'MW', 'MV', 'ML', 'MH', 'FM', 'NA', 'NR', 'NE', 'PW', 'PG', 'PR', 'WS', 'SM', 'ST', 'SN', 'SC', 'SL', 'SB', 'KN', 'LC', 'VC', 'SR', 'TL', 'TO', 'TT', 'TV', 'VU', 'AZ', 'BN', 'BI', 'KH', 'CM', 'TD', 'KM', 'GQ', 'SZ', 'GA', 'GN', 'KG', 'LA', 'MO', 'MR', 'MN', 'NP', 'RW', 'TG', 'UZ', 'ZW', 'BJ', 'MG', 'MU', 'MZ', 'AO', 'CI', 'DJ', 'ZM', 'CD', 'CG', 'IQ', 'LY', 'TJ', 'VE', 'ET', 'XK'], 'external_urls': {'spotify': 'https://open.spotify.com/album/2HLdCDKtyV4VxHLYk5xvAS'}, 'href': 'https://api.spotify.com/v1/albums/2HLdCDKtyV4VxHLYk5xvAS', 'id': '2HLdCDKtyV4VxHLYk5xvAS', 'images': [{'height': 300, 'url': 'https://i.scdn.co/image/ab67616d00001e020acf414348b3ca9a6f538690', 'width': 300}, {'height': 64, 'url': 'https://i.scdn.co/image/ab67616d000048510acf414348b3ca9a6f538690', 'width': 64}, {'height': 640, 'url': 'https://i.scdn.co/image/ab67616d0000b2730acf414348b3ca9a6f538690', 'width': 640}], 'name': 'Espectacular', 'release_date': '2024-04-18', 'release_date_precision': 'day', 'total_tracks': 1, 'type': 'album', 'uri': 'spotify:album:2HLdCDKtyV4VxHLYk5xvAS'}, {'album_type': 'album', 'artists': [{'external_urls': {'spotify': 'https://open.spotify.com/artist/46lEQmDJLJeyltECJYJv1Y'}, 'href': 'https://api.spotify.com/v1/artists/46lEQmDJLJeyltECJYJv1Y', 'id': '46lEQmDJLJeyltECJYJv1Y', 'name': 'Wyatt Flores', 'type': 'artist', 'uri': 'spotify:artist:46lEQmDJLJeyltECJYJv1Y'}], 'available_markets': ['AR', 'AU', 'AT', 'BE', 'BO', 'BR', 'BG', 'CA', 'CL', 'CO', 'CR', 'CY', 'CZ', 'DK', 'DO', 'DE', 'EC', 'EE', 'SV', 'FI', 'FR', 'GR', 'GT', 'HN', 'HK', 'HU', 'IS', 'IE', 'IT', 'LV', 'LT', 'LU', 'MY', 'MT', 'MX', 'NL', 'NZ', 'NI', 'NO', 'PA', 'PY', 'PE', 'PH', 'PL', 'PT', 'SG', 'SK', 'ES', 'SE', 'CH', 'TW', 'TR', 'UY', 'US', 'GB', 'AD', 'LI', 'MC', 'ID', 'JP', 'TH', 'VN', 'RO', 'IL', 'ZA', 'SA', 'AE', 'BH', 'QA', 'OM', 'KW', 'EG', 'MA', 'DZ', 'TN', 'LB', 'JO', 'PS', 'IN', 'KZ', 'MD', 'UA', 'AL', 'BA', 'HR', 'ME', 'MK', 'RS', 'SI', 'KR', 'BD', 'PK', 'LK', 'GH', 'KE', 'NG', 'TZ', 'UG', 'AG', 'AM', 'BS', 'BB', 'BZ', 'BT', 'BW', 'BF', 'CV', 'CW', 'DM', 'FJ', 'GM', 'GE', 'GD', 'GW', 'GY', 'HT', 'JM', 'KI', 'LS', 'LR', 'MW', 'MV', 'ML', 'MH', 'FM', 'NA', 'NR', 'NE', 'PW', 'PG', 'WS', 'SM', 'ST', 'SN', 'SC', 'SL', 'SB', 'KN', 'LC', 'VC', 'SR', 'TL', 'TO', 'TT', 'TV', 'VU', 'AZ', 'BN', 'BI', 'KH', 'CM', 'TD', 'KM', 'GQ', 'SZ', 'GA', 'GN', 'KG', 'LA', 'MO', 'MR', 'MN', 'NP', 'RW', 'TG', 'UZ', 'ZW', 'BJ', 'MG', 'MU', 'MZ', 'AO', 'CI', 'DJ', 'ZM', 'CD', 'CG', 'IQ', 'LY', 'TJ', 'VE', 'ET', 'XK'], 'external_urls': {'spotify': 'https://open.spotify.com/album/51JYG8XPpVVVA7uQTnm4tI'}, 'href': 'https://api.spotify.com/v1/albums/51JYG8XPpVVVA7uQTnm4tI', 'id': '51JYG8XPpVVVA7uQTnm4tI', 'images': [{'height': 300, 'url': 'https://i.scdn.co/image/ab67616d00001e020a0de163efc03ffc3bc597af', 'width': 300}, {'height': 64, 'url': 'https://i.scdn.co/image/ab67616d000048510a0de163efc03ffc3bc597af', 'width': 64}, {'height': 640, 'url': 'https://i.scdn.co/image/ab67616d0000b2730a0de163efc03ffc3bc597af', 'width': 640}], 'name': 'Half Life', 'release_date': '2024-04-19', 'release_date_precision': 'day', 'total_tracks': 8, 'type': 'album', 'uri': 'spotify:album:51JYG8XPpVVVA7uQTnm4tI'}, {'album_type': 'single', 'artists': [{'external_urls': {'spotify': 'https://open.spotify.com/artist/3SXwqSqAoBz9WCI9PDQzY6'}, 'href': 'https://api.spotify.com/v1/artists/3SXwqSqAoBz9WCI9PDQzY6', 'id': '3SXwqSqAoBz9WCI9PDQzY6', 'name': 'Fontaines D.C.', 'type': 'artist', 'uri': 'spotify:artist:3SXwqSqAoBz9WCI9PDQzY6'}], 'available_markets': ['AR', 'AU', 'AT', 'BE', 'BO', 'BR', 'BG', 'CA', 'CL', 'CO', 'CR', 'CY', 'CZ', 'DK', 'DO', 'DE', 'EC', 'EE', 'SV', 'FI', 'FR', 'GR', 'GT', 'HN', 'HK', 'HU', 'IS', 'IE', 'IT', 'LV', 'LT', 'LU', 'MY', 'MT', 'MX', 'NL', 'NZ', 'NI', 'NO', 'PA', 'PY', 'PE', 'PH', 'PL', 'PT', 'SG', 'SK', 'ES', 'SE', 'CH', 'TW', 'TR', 'UY', 'US', 'GB', 'AD', 'LI', 'MC', 'ID', 'JP', 'TH', 'VN', 'RO', 'IL', 'ZA', 'SA', 'AE', 'BH', 'QA', 'OM', 'KW', 'EG', 'MA', 'DZ', 'TN', 'LB', 'JO', 'PS', 'IN', 'BY', 'KZ', 'MD', 'UA', 'AL', 'BA', 'HR', 'ME', 'MK', 'RS', 'SI', 'KR', 'BD', 'PK', 'LK', 'GH', 'KE', 'NG', 'TZ', 'UG', 'AG', 'AM', 'BS', 'BB', 'BZ', 'BT', 'BW', 'BF', 'CV', 'CW', 'DM', 'FJ', 'GM', 'GE', 'GD', 'GW', 'GY', 'HT', 'JM', 'KI', 'LS', 'LR', 'MW', 'MV', 'ML', 'MH', 'FM', 'NA', 'NR', 'NE', 'PW', 'PG', 'PR', 'WS', 'SM', 'ST', 'SN', 'SC', 'SL', 'SB', 'KN', 'LC', 'VC', 'SR', 'TL', 'TO', 'TT', 'TV', 'VU', 'AZ', 'BN', 'BI', 'KH', 'CM', 'TD', 'KM', 'GQ', 'SZ', 'GA', 'GN', 'KG', 'LA', 'MO', 'MR', 'MN', 'NP', 'RW', 'TG', 'UZ', 'ZW', 'BJ', 'MG', 'MU', 'MZ', 'AO', 'CI', 'DJ', 'ZM', 'CD', 'CG', 'IQ', 'LY', 'TJ', 'VE', 'ET', 'XK'], 'external_urls': {'spotify': 'https://open.spotify.com/album/1KkyOpscmbPAQzLNZDyI6o'}, 'href': 'https://api.spotify.com/v1/albums/1KkyOpscmbPAQzLNZDyI6o', 'id': '1KkyOpscmbPAQzLNZDyI6o', 'images': [{'height': 300, 'url': 'https://i.scdn.co/image/ab67616d00001e020aa950a429f1a159fa211a75', 'width': 300}, {'height': 64, 'url': 'https://i.scdn.co/image/ab67616d000048510aa950a429f1a159fa211a75', 'width': 64}, {'height': 640, 'url': 'https://i.scdn.co/image/ab67616d0000b2730aa950a429f1a159fa211a75', 'width': 640}], 'name': 'Starburster', 'release_date': '2024-04-17', 'release_date_precision': 'day', 'total_tracks': 1, 'type': 'album', 'uri': 'spotify:album:1KkyOpscmbPAQzLNZDyI6o'}, {'album_type': 'single', 'artists': [{'external_urls': {'spotify': 'https://open.spotify.com/artist/048LktY5zMnakWq7PTtFrz'}, 'href': 'https://api.spotify.com/v1/artists/048LktY5zMnakWq7PTtFrz', 'id': '048LktY5zMnakWq7PTtFrz', 'name': 'CKay', 'type': 'artist', 'uri': 'spotify:artist:048LktY5zMnakWq7PTtFrz'}, {'external_urls': {'spotify': 'https://open.spotify.com/artist/4ovtyvs7j1jSmwhkBGHqSr'}, 'href': 'https://api.spotify.com/v1/artists/4ovtyvs7j1jSmwhkBGHqSr', 'id': '4ovtyvs7j1jSmwhkBGHqSr', 'name': 'Olamide', 'type': 'artist', 'uri': 'spotify:artist:4ovtyvs7j1jSmwhkBGHqSr'}], 'available_markets': ['AR', 'AU', 'AT', 'BE', 'BO', 'BR', 'BG', 'CA', 'CL', 'CO', 'CR', 'CY', 'CZ', 'DK', 'DO', 'DE', 'EC', 'EE', 'SV', 'FI', 'FR', 'GR', 'GT', 'HN', 'HK', 'HU', 'IS', 'IE', 'IT', 'LV', 'LT', 'LU', 'MY', 'MT', 'MX', 'NL', 'NZ', 'NI', 'NO', 'PA', 'PY', 'PE', 'PH', 'PL', 'PT', 'SG', 'SK', 'ES', 'SE', 'CH', 'TW', 'TR', 'UY', 'US', 'GB', 'AD', 'LI', 'MC', 'ID', 'JP', 'TH', 'VN', 'RO', 'IL', 'ZA', 'SA', 'AE', 'BH', 'QA', 'OM', 'KW', 'EG', 'MA', 'DZ', 'TN', 'LB', 'JO', 'PS', 'IN', 'KZ', 'MD', 'UA', 'AL', 'BA', 'HR', 'ME', 'MK', 'RS', 'SI', 'KR', 'BD', 'PK', 'LK', 'GH', 'KE', 'NG', 'TZ', 'UG', 'AG', 'AM', 'BS', 'BB', 'BZ', 'BT', 'BW', 'BF', 'CV', 'CW', 'DM', 'FJ', 'GM', 'GE', 'GD', 'GW', 'GY', 'HT', 'JM', 'KI', 'LS', 'LR', 'MW', 'MV', 'ML', 'MH', 'FM', 'NA', 'NR', 'NE', 'PW', 'PG', 'PR', 'WS', 'SM', 'ST', 'SN', 'SC', 'SL', 'SB', 'KN', 'LC', 'VC', 'SR', 'TL', 'TO', 'TT', 'TV', 'VU', 'AZ', 'BN', 'BI', 'KH', 'CM', 'TD', 'KM', 'GQ', 'SZ', 'GA', 'GN', 'KG', 'LA', 'MO', 'MR', 'MN', 'NP', 'RW', 'TG', 'UZ', 'ZW', 'BJ', 'MG', 'MU', 'MZ', 'AO', 'CI', 'DJ', 'ZM', 'CD', 'CG', 'IQ', 'LY', 'TJ', 'VE', 'ET', 'XK'], 'external_urls': {'spotify': 'https://open.spotify.com/album/59BxJKNg7wRYlJxAahb3YW'}, 'href': 'https://api.spotify.com/v1/albums/59BxJKNg7wRYlJxAahb3YW', 'id': '59BxJKNg7wRYlJxAahb3YW', 'images': [{'height': 300, 'url': 'https://i.scdn.co/image/ab67616d00001e02133915918d2fee0b960a067d', 'width': 300}, {'height': 64, 'url': 'https://i.scdn.co/image/ab67616d00004851133915918d2fee0b960a067d', 'width': 64}, {'height': 640, 'url': 'https://i.scdn.co/image/ab67616d0000b273133915918d2fee0b960a067d', 'width': 640}], 'name': 'WAHALA (FEAT. OLAMIDE)', 'release_date': '2024-04-19', 'release_date_precision': 'day', 'total_tracks': 1, 'type': 'album', 'uri': 'spotify:album:59BxJKNg7wRYlJxAahb3YW'}, {'album_type': 'single', 'artists': [{'external_urls': {'spotify': 'https://open.spotify.com/artist/6AUl0ykLLpvTktob97x9hO'}, 'href': 'https://api.spotify.com/v1/artists/6AUl0ykLLpvTktob97x9hO', 'id': '6AUl0ykLLpvTktob97x9hO', 'name': 'Tee Grizzley', 'type': 'artist', 'uri': 'spotify:artist:6AUl0ykLLpvTktob97x9hO'}], 'available_markets': ['AR', 'AU', 'AT', 'BE', 'BO', 'BR', 'BG', 'CA', 'CL', 'CO', 'CR', 'CY', 'CZ', 'DK', 'DO', 'DE', 'EC', 'EE', 'SV', 'FI', 'FR', 'GR', 'GT', 'HN', 'HK', 'HU', 'IS', 'IE', 'IT', 'LV', 'LT', 'LU', 'MY', 'MT', 'MX', 'NL', 'NZ', 'NI', 'NO', 'PA', 'PY', 'PE', 'PH', 'PL', 'PT', 'SG', 'SK', 'ES', 'SE', 'CH', 'TW', 'TR', 'UY', 'US', 'GB', 'AD', 'LI', 'MC', 'ID', 'JP', 'TH', 'VN', 'RO', 'IL', 'ZA', 'SA', 'AE', 'BH', 'QA', 'OM', 'KW', 'EG', 'MA', 'DZ', 'TN', 'LB', 'JO', 'PS', 'IN', 'KZ', 'MD', 'UA', 'AL', 'BA', 'HR', 'ME', 'MK', 'RS', 'SI', 'KR', 'BD', 'PK', 'LK', 'GH', 'KE', 'NG', 'TZ', 'UG', 'AG', 'AM', 'BS', 'BB', 'BZ', 'BT', 'BW', 'BF', 'CV', 'CW', 'DM', 'FJ', 'GM', 'GE', 'GD', 'GW', 'GY', 'HT', 'JM', 'KI', 'LS', 'LR', 'MW', 'MV', 'ML', 'MH', 'FM', 'NA', 'NR', 'NE', 'PW', 'PG', 'PR', 'WS', 'SM', 'ST', 'SN', 'SC', 'SL', 'SB', 'KN', 'LC', 'VC', 'SR', 'TL', 'TO', 'TT', 'TV', 'VU', 'AZ', 'BN', 'BI', 'KH', 'CM', 'TD', 'KM', 'GQ', 'SZ', 'GA', 'GN', 'KG', 'LA', 'MO', 'MR', 'MN', 'NP', 'RW', 'TG', 'UZ', 'ZW', 'BJ', 'MG', 'MU', 'MZ', 'AO', 'CI', 'DJ', 'ZM', 'CD', 'CG', 'IQ', 'LY', 'TJ', 'VE', 'ET', 'XK'], 'external_urls': {'spotify': 'https://open.spotify.com/album/1qJghQpnRM2sRbhX3lWXHz'}, 'href': 'https://api.spotify.com/v1/albums/1qJghQpnRM2sRbhX3lWXHz', 'id': '1qJghQpnRM2sRbhX3lWXHz', 'images': [{'height': 300, 'url': 'https://i.scdn.co/image/ab67616d00001e020bdb66dadbc9d4721bf0a30f', 'width': 300}, {'height': 64, 'url': 'https://i.scdn.co/image/ab67616d000048510bdb66dadbc9d4721bf0a30f', 'width': 64}, {'height': 640, 'url': 'https://i.scdn.co/image/ab67616d0000b2730bdb66dadbc9d4721bf0a30f', 'width': 640}], 'name': 'Suffer In Silence', 'release_date': '2024-04-19', 'release_date_precision': 'day', 'total_tracks': 1, 'type': 'album', 'uri': 'spotify:album:1qJghQpnRM2sRbhX3lWXHz'}, {'album_type': 'album', 'artists': [{'external_urls': {'spotify': 'https://open.spotify.com/artist/2eIB6vFotL2su94z3pUC1j'}, 'href': 'https://api.spotify.com/v1/artists/2eIB6vFotL2su94z3pUC1j', 'id': '2eIB6vFotL2su94z3pUC1j', 'name': 'Elvie Shane', 'type': 'artist', 'uri': 'spotify:artist:2eIB6vFotL2su94z3pUC1j'}], 'available_markets': ['AR', 'AU', 'AT', 'BE', 'BO', 'BR', 'BG', 'CA', 'CL', 'CO', 'CR', 'CY', 'CZ', 'DK', 'DO', 'DE', 'EC', 'EE', 'SV', 'FI', 'FR', 'GR', 'GT', 'HN', 'HK', 'HU', 'IS', 'IE', 'IT', 'LV', 'LT', 'LU', 'MY', 'MT', 'MX', 'NL', 'NZ', 'NI', 'NO', 'PA', 'PY', 'PE', 'PH', 'PL', 'PT', 'SG', 'SK', 'ES', 'SE', 'CH', 'TW', 'TR', 'UY', 'US', 'GB', 'AD', 'LI', 'MC', 'ID', 'JP', 'TH', 'VN', 'RO', 'IL', 'ZA', 'SA', 'AE', 'BH', 'QA', 'OM', 'KW', 'EG', 'MA', 'DZ', 'TN', 'LB', 'JO', 'PS', 'IN', 'BY', 'KZ', 'MD', 'UA', 'AL', 'BA', 'HR', 'ME', 'MK', 'RS', 'SI', 'KR', 'BD', 'PK', 'LK', 'GH', 'KE', 'NG', 'TZ', 'UG', 'AG', 'AM', 'BS', 'BB', 'BZ', 'BT', 'BW', 'BF', 'CV', 'CW', 'DM', 'FJ', 'GM', 'GE', 'GD', 'GW', 'GY', 'HT', 'JM', 'KI', 'LS', 'LR', 'MW', 'MV', 'ML', 'MH', 'FM', 'NA', 'NR', 'NE', 'PW', 'PG', 'PR', 'WS', 'SM', 'ST', 'SN', 'SC', 'SL', 'SB', 'KN', 'LC', 'VC', 'SR', 'TL', 'TO', 'TT', 'TV', 'VU', 'AZ', 'BN', 'BI', 'KH', 'CM', 'TD', 'KM', 'GQ', 'SZ', 'GA', 'GN', 'KG', 'LA', 'MO', 'MR', 'MN', 'NP', 'RW', 'TG', 'UZ', 'ZW', 'BJ', 'MG', 'MU', 'MZ', 'AO', 'CI', 'DJ', 'ZM', 'CD', 'CG', 'IQ', 'LY', 'TJ', 'VE', 'ET', 'XK'], 'external_urls': {'spotify': 'https://open.spotify.com/album/0VZCWi3C9oARyCsoZKCMhg'}, 'href': 'https://api.spotify.com/v1/albums/0VZCWi3C9oARyCsoZKCMhg', 'id': '0VZCWi3C9oARyCsoZKCMhg', 'images': [{'height': 300, 'url': 'https://i.scdn.co/image/ab67616d00001e02f0b8b953717d68294b1cdc60', 'width': 300}, {'height': 64, 'url': 'https://i.scdn.co/image/ab67616d00004851f0b8b953717d68294b1cdc60', 'width': 64}, {'height': 640, 'url': 'https://i.scdn.co/image/ab67616d0000b273f0b8b953717d68294b1cdc60', 'width': 640}], 'name': 'Damascus', 'release_date': '2024-04-19', 'release_date_precision': 'day', 'total_tracks': 13, 'type': 'album', 'uri': 'spotify:album:0VZCWi3C9oARyCsoZKCMhg'}, {'album_type': 'album', 'artists': [{'external_urls': {'spotify': 'https://open.spotify.com/artist/3XxNRirzbjfLdDli06zMaB'}, 'href': 'https://api.spotify.com/v1/artists/3XxNRirzbjfLdDli06zMaB', 'id': '3XxNRirzbjfLdDli06zMaB', 'name': 'Eyedress', 'type': 'artist', 'uri': 'spotify:artist:3XxNRirzbjfLdDli06zMaB'}], 'available_markets': ['AR', 'AU', 'AT', 'BE', 'BO', 'BR', 'BG', 'CA', 'CL', 'CO', 'CR', 'CY', 'CZ', 'DK', 'DO', 'DE', 'EC', 'EE', 'SV', 'FI', 'FR', 'GR', 'GT', 'HN', 'HK', 'HU', 'IS', 'IE', 'IT', 'LV', 'LT', 'LU', 'MY', 'MT', 'MX', 'NL', 'NZ', 'NI', 'NO', 'PA', 'PY', 'PE', 'PH', 'PL', 'PT', 'SG', 'SK', 'ES', 'SE', 'CH', 'TW', 'TR', 'UY', 'US', 'GB', 'AD', 'LI', 'MC', 'ID', 'JP', 'TH', 'VN', 'RO', 'IL', 'ZA', 'SA', 'AE', 'BH', 'QA', 'OM', 'KW', 'EG', 'MA', 'DZ', 'TN', 'LB', 'JO', 'PS', 'IN', 'BY', 'KZ', 'MD', 'UA', 'AL', 'BA', 'HR', 'ME', 'MK', 'RS', 'SI', 'KR', 'BD', 'PK', 'LK', 'GH', 'KE', 'NG', 'TZ', 'UG', 'AG', 'AM', 'BS', 'BB', 'BZ', 'BT', 'BW', 'BF', 'CV', 'CW', 'DM', 'FJ', 'GM', 'GE', 'GD', 'GW', 'GY', 'HT', 'JM', 'KI', 'LS', 'LR', 'MW', 'MV', 'ML', 'MH', 'FM', 'NA', 'NR', 'NE', 'PW', 'PG', 'PR', 'WS', 'SM', 'ST', 'SN', 'SC', 'SL', 'SB', 'KN', 'LC', 'VC', 'SR', 'TL', 'TO', 'TT', 'TV', 'VU', 'AZ', 'BN', 'BI', 'KH', 'CM', 'TD', 'KM', 'GQ', 'SZ', 'GA', 'GN', 'KG', 'LA', 'MO', 'MR', 'MN', 'NP', 'RW', 'TG', 'UZ', 'ZW', 'BJ', 'MG', 'MU', 'MZ', 'AO', 'CI', 'DJ', 'ZM', 'CD', 'CG', 'IQ', 'LY', 'TJ', 'VE', 'ET', 'XK'], 'external_urls': {'spotify': 'https://open.spotify.com/album/34GevB4U1WHwDcm7kQmANH'}, 'href': 'https://api.spotify.com/v1/albums/34GevB4U1WHwDcm7kQmANH', 'id': '34GevB4U1WHwDcm7kQmANH', 'images': [{'height': 300, 'url': 'https://i.scdn.co/image/ab67616d00001e02415ca550a5a8bfd6b9a8bfa3', 'width': 300}, {'height': 64, 'url': 'https://i.scdn.co/image/ab67616d00004851415ca550a5a8bfd6b9a8bfa3', 'width': 64}, {'height': 640, 'url': 'https://i.scdn.co/image/ab67616d0000b273415ca550a5a8bfd6b9a8bfa3', 'width': 640}], 'name': 'Vampire in Beverly Hills', 'release_date': '2024-04-19', 'release_date_precision': 'day', 'total_tracks': 34, 'type': 'album', 'uri': 'spotify:album:34GevB4U1WHwDcm7kQmANH'}, {'album_type': 'album', 'artists': [{'external_urls': {'spotify': 'https://open.spotify.com/artist/2ABBMkcUeM9hdpimo86mo6'}, 'href': 'https://api.spotify.com/v1/artists/2ABBMkcUeM9hdpimo86mo6', 'id': '2ABBMkcUeM9hdpimo86mo6', 'name': 'Tourist', 'type': 'artist', 'uri': 'spotify:artist:2ABBMkcUeM9hdpimo86mo6'}], 'available_markets': ['AR', 'AU', 'AT', 'BE', 'BO', 'BR', 'BG', 'CA', 'CL', 'CO', 'CR', 'CY', 'CZ', 'DK', 'DO', 'DE', 'EC', 'EE', 'SV', 'FI', 'FR', 'GR', 'GT', 'HN', 'HK', 'HU', 'IS', 'IE', 'IT', 'LV', 'LT', 'LU', 'MY', 'MT', 'MX', 'NL', 'NZ', 'NI', 'NO', 'PA', 'PY', 'PE', 'PH', 'PL', 'PT', 'SG', 'SK', 'ES', 'SE', 'CH', 'TW', 'TR', 'UY', 'US', 'GB', 'AD', 'LI', 'MC', 'ID', 'JP', 'TH', 'VN', 'RO', 'IL', 'ZA', 'SA', 'AE', 'BH', 'QA', 'OM', 'KW', 'EG', 'MA', 'DZ', 'TN', 'LB', 'JO', 'PS', 'IN', 'BY', 'KZ', 'MD', 'UA', 'AL', 'BA', 'HR', 'ME', 'MK', 'RS', 'SI', 'KR', 'BD', 'PK', 'LK', 'GH', 'KE', 'NG', 'TZ', 'UG', 'AG', 'AM', 'BS', 'BB', 'BZ', 'BT', 'BW', 'BF', 'CV', 'CW', 'DM', 'FJ', 'GM', 'GE', 'GD', 'GW', 'GY', 'HT', 'JM', 'KI', 'LS', 'LR', 'MW', 'MV', 'ML', 'MH', 'FM', 'NA', 'NR', 'NE', 'PW', 'PG', 'PR', 'WS', 'SM', 'ST', 'SN', 'SC', 'SL', 'SB', 'KN', 'LC', 'VC', 'SR', 'TL', 'TO', 'TT', 'TV', 'VU', 'AZ', 'BN', 'BI', 'KH', 'CM', 'TD', 'KM', 'GQ', 'SZ', 'GA', 'GN', 'KG', 'LA', 'MO', 'MR', 'MN', 'NP', 'RW', 'TG', 'UZ', 'ZW', 'BJ', 'MG', 'MU', 'MZ', 'AO', 'CI', 'DJ', 'ZM', 'CD', 'CG', 'IQ', 'LY', 'TJ', 'VE', 'ET', 'XK'], 'external_urls': {'spotify': 'https://open.spotify.com/album/2LsEbodgqI6P1q7QEVe3P7'}, 'href': 'https://api.spotify.com/v1/albums/2LsEbodgqI6P1q7QEVe3P7', 'id': '2LsEbodgqI6P1q7QEVe3P7', 'images': [{'height': 300, 'url': 'https://i.scdn.co/image/ab67616d00001e02b8099f7ce6d7c58e642b2162', 'width': 300}, {'height': 64, 'url': 'https://i.scdn.co/image/ab67616d00004851b8099f7ce6d7c58e642b2162', 'width': 64}, {'height': 640, 'url': 'https://i.scdn.co/image/ab67616d0000b273b8099f7ce6d7c58e642b2162', 'width': 640}], 'name': 'Memory Morning', 'release_date': '2024-04-19', 'release_date_precision': 'day', 'total_tracks': 10, 'type': 'album', 'uri': 'spotify:album:2LsEbodgqI6P1q7QEVe3P7'}, {'album_type': 'single', 'artists': [{'external_urls': {'spotify': 'https://open.spotify.com/artist/1SupJlEpv7RS2tPNRaHViT'}, 'href': 'https://api.spotify.com/v1/artists/1SupJlEpv7RS2tPNRaHViT', 'id': '1SupJlEpv7RS2tPNRaHViT', 'name': 'Nicky Jam', 'type': 'artist', 'uri': 'spotify:artist:1SupJlEpv7RS2tPNRaHViT'}, {'external_urls': {'spotify': 'https://open.spotify.com/artist/2x7PC78TmgqpEIjaGAZ0Oz'}, 'href': 'https://api.spotify.com/v1/artists/2x7PC78TmgqpEIjaGAZ0Oz', 'id': '2x7PC78TmgqpEIjaGAZ0Oz', 'name': 'Trueno', 'type': 'artist', 'uri': 'spotify:artist:2x7PC78TmgqpEIjaGAZ0Oz'}], 'available_markets': [], 'external_urls': {'spotify': 'https://open.spotify.com/album/2GamOIjCp5gNSw7n4RKLZt'}, 'href': 'https://api.spotify.com/v1/albums/2GamOIjCp5gNSw7n4RKLZt', 'id': '2GamOIjCp5gNSw7n4RKLZt', 'images': [{'height': 300, 'url': 'https://i.scdn.co/image/ab67616d00001e02ce44de961be69af07afa2ed3', 'width': 300}, {'height': 64, 'url': 'https://i.scdn.co/image/ab67616d00004851ce44de961be69af07afa2ed3', 'width': 64}, {'height': 640, 'url': 'https://i.scdn.co/image/ab67616d0000b273ce44de961be69af07afa2ed3', 'width': 640}], 'name': 'Cangrinaje', 'release_date': '2024-04-18', 'release_date_precision': 'day', 'total_tracks': 1, 'type': 'album', 'uri': 'spotify:album:2GamOIjCp5gNSw7n4RKLZt'}, {'album_type': 'single', 'artists': [{'external_urls': {'spotify': 'https://open.spotify.com/artist/1QAJqy2dA3ihHBFIHRphZj'}, 'href': 'https://api.spotify.com/v1/artists/1QAJqy2dA3ihHBFIHRphZj', 'id': '1QAJqy2dA3ihHBFIHRphZj', 'name': 'Cigarettes After Sex', 'type': 'artist', 'uri': 'spotify:artist:1QAJqy2dA3ihHBFIHRphZj'}], 'available_markets': ['AR', 'AT', 'BE', 'BO', 'BR', 'BG', 'CA', 'CL', 'CO', 'CR', 'CY', 'CZ', 'DK', 'DO', 'DE', 'EC', 'EE', 'SV', 'FI', 'FR', 'GR', 'GT', 'HN', 'HK', 'HU', 'IS', 'IE', 'IT', 'LV', 'LT', 'LU', 'MY', 'MT', 'MX', 'NL', 'NI', 'NO', 'PA', 'PY', 'PE', 'PH', 'PL', 'PT', 'SG', 'SK', 'ES', 'SE', 'CH', 'TW', 'TR', 'UY', 'US', 'GB', 'AD', 'LI', 'MC', 'ID', 'JP', 'TH', 'VN', 'RO', 'IL', 'ZA', 'SA', 'AE', 'BH', 'QA', 'OM', 'KW', 'EG', 'MA', 'DZ', 'TN', 'LB', 'JO', 'PS', 'IN', 'BY', 'KZ', 'MD', 'UA', 'AL', 'BA', 'HR', 'ME', 'MK', 'RS', 'SI', 'KR', 'BD', 'PK', 'LK', 'GH', 'KE', 'NG', 'TZ', 'UG', 'AG', 'AM', 'BS', 'BB', 'BZ', 'BT', 'BW', 'BF', 'CV', 'CW', 'DM', 'FJ', 'GM', 'GE', 'GD', 'GW', 'GY', 'HT', 'JM', 'KI', 'LS', 'LR', 'MW', 'MV', 'ML', 'MH', 'FM', 'NA', 'NR', 'NE', 'PW', 'PG', 'PR', 'WS', 'SM', 'ST', 'SN', 'SC', 'SL', 'SB', 'KN', 'LC', 'VC', 'SR', 'TL', 'TO', 'TT', 'TV', 'VU', 'AZ', 'BN', 'BI', 'KH', 'CM', 'TD', 'KM', 'GQ', 'SZ', 'GA', 'GN', 'KG', 'LA', 'MO', 'MR', 'MN', 'NP', 'RW', 'TG', 'UZ', 'ZW', 'BJ', 'MG', 'MU', 'MZ', 'AO', 'CI', 'DJ', 'ZM', 'CD', 'CG', 'IQ', 'LY', 'TJ', 'VE', 'ET', 'XK'], 'external_urls': {'spotify': 'https://open.spotify.com/album/33oGkitXxjRXWQwCx00jDb'}, 'href': 'https://api.spotify.com/v1/albums/33oGkitXxjRXWQwCx00jDb', 'id': '33oGkitXxjRXWQwCx00jDb', 'images': [{'height': 300, 'url': 'https://i.scdn.co/image/ab67616d00001e02bf0484dce581436a750ad0c1', 'width': 300}, {'height': 64, 'url': 'https://i.scdn.co/image/ab67616d00004851bf0484dce581436a750ad0c1', 'width': 64}, {'height': 640, 'url': 'https://i.scdn.co/image/ab67616d0000b273bf0484dce581436a750ad0c1', 'width': 640}], 'name': 'Dark Vacay', 'release_date': '2024-04-16', 'release_date_precision': 'day', 'total_tracks': 1, 'type': 'album', 'uri': 'spotify:album:33oGkitXxjRXWQwCx00jDb'}, {'album_type': 'single', 'artists': [{'external_urls': {'spotify': 'https://open.spotify.com/artist/16oZKvXb6WkQlVAjwo2Wbg'}, 'href': 'https://api.spotify.com/v1/artists/16oZKvXb6WkQlVAjwo2Wbg', 'id': '16oZKvXb6WkQlVAjwo2Wbg', 'name': 'The Lumineers', 'type': 'artist', 'uri': 'spotify:artist:16oZKvXb6WkQlVAjwo2Wbg'}], 'available_markets': ['AR', 'AU', 'AT', 'BE', 'BO', 'BR', 'BG', 'CA', 'CL', 'CO', 'CR', 'CY', 'CZ', 'DK', 'DO', 'DE', 'EC', 'EE', 'SV', 'FI', 'FR', 'GR', 'GT', 'HN', 'HK', 'HU', 'IS', 'IE', 'IT', 'LV', 'LT', 'LU', 'MY', 'MT', 'MX', 'NL', 'NZ', 'NI', 'NO', 'PA', 'PY', 'PE', 'PH', 'PL', 'PT', 'SG', 'SK', 'ES', 'SE', 'CH', 'TW', 'TR', 'UY', 'US', 'GB', 'AD', 'LI', 'MC', 'ID', 'JP', 'TH', 'VN', 'RO', 'IL', 'ZA', 'SA', 'AE', 'BH', 'QA', 'OM', 'KW', 'EG', 'MA', 'DZ', 'TN', 'LB', 'JO', 'PS', 'IN', 'BY', 'KZ', 'MD', 'UA', 'AL', 'BA', 'HR', 'ME', 'MK', 'RS', 'SI', 'KR', 'BD', 'PK', 'LK', 'GH', 'KE', 'NG', 'TZ', 'UG', 'AG', 'AM', 'BS', 'BB', 'BZ', 'BT', 'BW', 'BF', 'CV', 'CW', 'DM', 'FJ', 'GM', 'GE', 'GD', 'GW', 'GY', 'HT', 'JM', 'KI', 'LS', 'LR', 'MW', 'MV', 'ML', 'MH', 'FM', 'NA', 'NR', 'NE', 'PW', 'PG', 'PR', 'WS', 'SM', 'ST', 'SN', 'SC', 'SL', 'SB', 'KN', 'LC', 'VC', 'SR', 'TL', 'TO', 'TT', 'TV', 'VU', 'AZ', 'BN', 'BI', 'KH', 'CM', 'TD', 'KM', 'GQ', 'SZ', 'GA', 'GN', 'KG', 'LA', 'MO', 'MR', 'MN', 'NP', 'RW', 'TG', 'UZ', 'ZW', 'BJ', 'MG', 'MU', 'MZ', 'AO', 'CI', 'DJ', 'ZM', 'CD', 'CG', 'IQ', 'LY', 'TJ', 'VE', 'ET', 'XK'], 'external_urls': {'spotify': 'https://open.spotify.com/album/2We3SA07PIDpZQmWvTm7CM'}, 'href': 'https://api.spotify.com/v1/albums/2We3SA07PIDpZQmWvTm7CM', 'id': '2We3SA07PIDpZQmWvTm7CM', 'images': [{'height': 300, 'url': 'https://i.scdn.co/image/ab67616d00001e025ffb58f296e0d1ea7f353fa3', 'width': 300}, {'height': 64, 'url': 'https://i.scdn.co/image/ab67616d000048515ffb58f296e0d1ea7f353fa3', 'width': 64}, {'height': 640, 'url': 'https://i.scdn.co/image/ab67616d0000b2735ffb58f296e0d1ea7f353fa3', 'width': 640}], 'name': 'A Song For You (Live At The Hollywood Bowl, Los Angeles, CA - April 29, 2023)', 'release_date': '2024-04-19', 'release_date_precision': 'day', 'total_tracks': 1, 'type': 'album', 'uri': 'spotify:album:2We3SA07PIDpZQmWvTm7CM'}], 'limit': 20, 'next': 'https://api.spotify.com/v1/browse/new-releases?offset=20&limit=20', 'offset': 0, 'previous': None, 'total': 100}}\n"
          ]
        }
      ],
      "source": [
        "print(releases_response)"
      ]
    },
    {
      "cell_type": "markdown",
      "metadata": {},
      "source": [
        "<a id='2-3'></a>\n",
        "### 2.3 - Pagination\n",
        "\n",
        "If you print `releases_response`, you can see the following fields:\n",
        "\n",
        "```json\n",
        "{\n",
        "...,\n",
        "'limit': 20,\n",
        "'next': 'https://api.spotify.com/v1/browse/new-releases?offset=20&limit=20',\n",
        "'offset': 0,\n",
        "'previous': None,\n",
        "'total': 100\n",
        "}\n",
        "```\n",
        "\n",
        "Although there is a total of 100 available items to be returned, only 20 were returned. This is established by the `limit` parameter and those were the 20 items you just counted before. This limit on the number of elements returned is a common feature of several APIs and although in some cases you can modify such a limit, a good practice is to use it with **pagination** to get all the elements that can be returned. \n",
        "\n",
        "Each API handles pagination differently. For Spotify, the requests response provides you with two fields that allow you to query the different pages of your request: `previous` and `next`. These two fields will return the URL to the previous or next page respectively and they are based on the `offset` and `limit` parameters. In this case, there are two ways for you to explore the rest of the data:\n",
        "\n",
        "- you can use the value from the next parameter to get the direct URL for the next page of requests, or \n",
        "- you can build the URL for the next page from scratch using the offset and limit parameters (make sure to update the offset parameter for the request). \n",
        "\n",
        "For the sake of learning, you will use method 2 to build the URL yourself. Then you will also compare it with the result from using the first method just to check that you created the URL correctly.\n",
        "\n",
        "Before creating a function that will allow you to paginate, let's try to do it manually. If you compare the URLs provided by the `href` and `next` fields, you can see that while the `limit` parameter remains the same, the `offset` parameter has increased with the same value as the one stored in `limit`.\n",
        "\n",
        "```json\n",
        "{\n",
        "...,\n",
        "'href': 'https://api.spotify.com/v1/browse/new-releases?offset=0&limit=20',\n",
        "...,\n",
        "'next': 'https://api.spotify.com/v1/browse/new-releases?offset=20&limit=20',\n",
        "...\n",
        "}\n",
        "```\n",
        "\n",
        "So for our next call, let's pass 20 to `offset` and keep `limit` as 20:"
      ]
    },
    {
      "cell_type": "code",
      "execution_count": 12,
      "metadata": {},
      "outputs": [],
      "source": [
        "next_releases_response = get_new_releases(url=URL_NEW_RELEASES, access_token=token.get('access_token'), offset=20, limit=20)"
      ]
    },
    {
      "cell_type": "markdown",
      "metadata": {},
      "source": [
        "Check the values for `href` and `next` in the new response `next_releases_response`:"
      ]
    },
    {
      "cell_type": "code",
      "execution_count": 13,
      "metadata": {},
      "outputs": [
        {
          "data": {
            "text/plain": [
              "'https://api.spotify.com/v1/browse/new-releases?offset=0&limit=20'"
            ]
          },
          "execution_count": 13,
          "metadata": {},
          "output_type": "execute_result"
        }
      ],
      "source": [
        "next_releases_response.get('albums').get('href')"
      ]
    },
    {
      "cell_type": "code",
      "execution_count": 14,
      "metadata": {},
      "outputs": [
        {
          "data": {
            "text/plain": [
              "'https://api.spotify.com/v1/browse/new-releases?offset=20&limit=20'"
            ]
          },
          "execution_count": 14,
          "metadata": {},
          "output_type": "execute_result"
        }
      ],
      "source": [
        "next_releases_response.get('albums').get('next')"
      ]
    },
    {
      "cell_type": "markdown",
      "metadata": {},
      "source": [
        "Given these results, you can see that the `offset` increases by the value of the `limit`. As the responses show that the `total` value is 100, this means that you can access the last page of responses by using an `offset` of 80, while keeping the `limit` value as 20."
      ]
    },
    {
      "cell_type": "code",
      "execution_count": 18,
      "metadata": {},
      "outputs": [],
      "source": [
        "last_releases_response = get_new_releases(url=URL_NEW_RELEASES, access_token=token.get('access_token'), offset=80, limit=20)"
      ]
    },
    {
      "cell_type": "code",
      "execution_count": 19,
      "metadata": {},
      "outputs": [
        {
          "name": "stdout",
          "output_type": "stream",
          "text": [
            "https://api.spotify.com/v1/browse/new-releases?offset=20&limit=20\n"
          ]
        }
      ],
      "source": [
        "# print(last_releases_response.get('albums').get('previous'))\n",
        "print(last_releases_response.get('albums').get('next'))"
      ]
    },
    {
      "cell_type": "markdown",
      "metadata": {},
      "source": [
        "You can see that the value of the `next` field is `None`, indicating that you reached the last page. On the other hand, you can see that `previous` contains the URL to request the data from the previous page, so you can even go backward if required."
      ]
    },
    {
      "cell_type": "markdown",
      "metadata": {},
      "source": [
        "<a id='ex02'></a>\n",
        "### Exercise 2\n",
        "\n",
        "Follow the instructions to create a new function that will handle pagination, based on the `get_new_releases` function:\n",
        "\n",
        "1. Check the function definition, you have to provide a callable (`endpoint_request`) that corresponds to the function that performs the API call to get the new album releases.\n",
        "2. Before the `while` loop, create a dictionary named `kwargs` with the following keys:\n",
        "    * `'url'`: the URL to perform the call passed to the function as a parameter.\n",
        "    * `'access_token'`: the access token passed to the function as a parameter. \n",
        "    * `'offset'`: page's offset for the paginated request.\n",
        "    * `'limit'`: maximum number of elements in the page's request.\n",
        "3. Call the `endpoint_request()` function with the keyword arguments that you specified in the `kwargs` dictionary. Assign it to `response`.\n",
        "4. Extend the `responses` list with the album's `items` from the `response`.\n",
        "5. Create a variable `total_elements` that hosts the total number of elements from the  `response`. Remember that the `response` has a field named `'albums'` that has the `'total'` number of elements. If you have any doubt about the response structure, remember to see the [documentation](https://developer.spotify.com/documentation/web-api/reference/get-new-releases).\n",
        "6. Run the `while` loop as long as the `offset` value is smaller than `total_elements` variable you defined before.\n",
        "7. Inside the `while` loop do the following steps: \n",
        "   * Update the `offset` value with the current value from the request you did plus the `limit` value.\n",
        "   * Repeat the definition of the `kwargs` dictionary with the same parameters. Note that in this case the `offset` value has been updated.\n",
        "   * Repeat steps 3 and 4.\n",
        "  "
      ]
    },
    {
      "cell_type": "code",
      "execution_count": 39,
      "metadata": {},
      "outputs": [],
      "source": [
        "def paginated_new_releases(endpoint_request: Callable, url: str, access_token: str, offset: int=0, limit: int=20) -> list:\n",
        "    \"\"\"Allows to perform pagination over and API request done by the endpoint_request function\n",
        "\n",
        "    Args:\n",
        "        endpoint_request (Callable): Function that performs the API Calls\n",
        "        url (str): Endpoint's URL for the request\n",
        "        access_token (str): Access token\n",
        "        offset (int, optional): Offset of the page's request. Defaults to 0.\n",
        "        limit (int, optional): Limit of the page's request. Defaults to 20.\n",
        "\n",
        "    Returns:\n",
        "        list: List with the requested items\n",
        "    \"\"\"\n",
        "    \n",
        "    responses = []\n",
        "    \n",
        "    ### START CODE HERE ### (~ 19 lines of code)\n",
        "    # Create a dictionary named kwargs with the values corresponding to the keys url, token, offset, limit\n",
        "    kwargs = { \n",
        "        \n",
        "            \"url\": url,\n",
        "            \"access_token\": access_token,\n",
        "            \"offset\": offset,\n",
        "            \"limit\": limit,\n",
        "        } \n",
        "\n",
        "    \n",
        "    # Call the endpoint_request() function with the arguments specified in the kwargs dictionary.\n",
        "    response = get_new_releases(**kwargs)\n",
        "    # Use extend() method to add the albums' items to the list of responses.\n",
        "    responses.extend(response.get('albums').get('items'))\n",
        "    # Get the total number of the elements in albums and save it in the variable total_elements.\n",
        "    total_elements = response.get('albums').get('total')\n",
        "    # Run the loop as long as the offset value is smaller than total_elements.\n",
        "    while offset < total_elements:\n",
        "        # Update the offset value with the current value from the request you did plus the limit value.\n",
        "        offset = response.get('albums').get('offset') + limit\n",
        "        # Repeat the definition of the kwargs dictionary with the same parameters (with the new offset value).\n",
        "        kwargs = { \n",
        "            \n",
        "            \"url\": url,\n",
        "            \"access_token\": access_token,\n",
        "            \"offset\": offset,\n",
        "            \"limit\": limit,\n",
        "        } \n",
        "        \n",
        "        # Call the endpoint_request() function with the arguments specified in the kwargs dictionary.\n",
        "        response = get_new_releases(**kwargs)\n",
        "         # Use extend() method to add the albums' items to the list of responses.\n",
        "        responses.extend(response.get('albums').get('items'))\n",
        "    ### END CODE HERE ###\n",
        "        \n",
        "        print(f\"Finished iteration for page with offset: {offset-limit}\")\n",
        "\n",
        "    return responses"
      ]
    },
    {
      "cell_type": "markdown",
      "metadata": {},
      "source": [
        "Now, execute the `paginated_new_releases` with the function `get_new_releases` as the `endpoint_request` callable parameter. Use the same URL used in the previous `get_new_releases` call, as well as the access token. Set the initial `offset` as 0. For the limit, the default value is 20 but you can play with other values if you want."
      ]
    },
    {
      "cell_type": "code",
      "execution_count": 40,
      "metadata": {},
      "outputs": [
        {
          "name": "stdout",
          "output_type": "stream",
          "text": [
            "Finished iteration for page with offset: 0\n",
            "Finished iteration for page with offset: 20\n",
            "Finished iteration for page with offset: 40\n",
            "Finished iteration for page with offset: 60\n",
            "Finished iteration for page with offset: 80\n"
          ]
        }
      ],
      "source": [
        "responses = paginated_new_releases(endpoint_request=get_new_releases,\n",
        "                                   url=URL_NEW_RELEASES, \n",
        "                                   access_token=token.get('access_token'), \n",
        "                                   offset=0, limit=20)"
      ]
    },
    {
      "cell_type": "markdown",
      "metadata": {},
      "source": [
        "##### __Expected Output__ \n",
        "```text\n",
        "Finished iteration for page with offset: 0\n",
        "Finished iteration for page with offset: 20\n",
        "Finished iteration for page with offset: 40\n",
        "Finished iteration for page with offset: 60\n",
        "Finished iteration for page with offset: 80\n",
        "```"
      ]
    },
    {
      "cell_type": "markdown",
      "metadata": {},
      "source": [
        "Have a look at one of the item:"
      ]
    },
    {
      "cell_type": "code",
      "execution_count": 41,
      "metadata": {
        "exercise": [
          "ex02"
        ],
        "tags": [
          "graded"
        ]
      },
      "outputs": [
        {
          "data": {
            "text/plain": [
              "{'album_type': 'album',\n",
              " 'artists': [{'external_urls': {'spotify': 'https://open.spotify.com/artist/06HL4z0CvFAxyc27GXpf02'},\n",
              "   'href': 'https://api.spotify.com/v1/artists/06HL4z0CvFAxyc27GXpf02',\n",
              "   'id': '06HL4z0CvFAxyc27GXpf02',\n",
              "   'name': 'Taylor Swift',\n",
              "   'type': 'artist',\n",
              "   'uri': 'spotify:artist:06HL4z0CvFAxyc27GXpf02'}],\n",
              " 'available_markets': ['AR',\n",
              "  'AU',\n",
              "  'AT',\n",
              "  'BE',\n",
              "  'BO',\n",
              "  'BR',\n",
              "  'BG',\n",
              "  'CA',\n",
              "  'CL',\n",
              "  'CO',\n",
              "  'CR',\n",
              "  'CY',\n",
              "  'CZ',\n",
              "  'DK',\n",
              "  'DO',\n",
              "  'DE',\n",
              "  'EC',\n",
              "  'EE',\n",
              "  'SV',\n",
              "  'FI',\n",
              "  'FR',\n",
              "  'GR',\n",
              "  'GT',\n",
              "  'HN',\n",
              "  'HK',\n",
              "  'HU',\n",
              "  'IS',\n",
              "  'IE',\n",
              "  'IT',\n",
              "  'LV',\n",
              "  'LT',\n",
              "  'LU',\n",
              "  'MY',\n",
              "  'MT',\n",
              "  'MX',\n",
              "  'NL',\n",
              "  'NZ',\n",
              "  'NI',\n",
              "  'NO',\n",
              "  'PA',\n",
              "  'PY',\n",
              "  'PE',\n",
              "  'PH',\n",
              "  'PL',\n",
              "  'PT',\n",
              "  'SG',\n",
              "  'SK',\n",
              "  'ES',\n",
              "  'SE',\n",
              "  'CH',\n",
              "  'TW',\n",
              "  'TR',\n",
              "  'UY',\n",
              "  'US',\n",
              "  'GB',\n",
              "  'AD',\n",
              "  'LI',\n",
              "  'MC',\n",
              "  'ID',\n",
              "  'JP',\n",
              "  'TH',\n",
              "  'VN',\n",
              "  'RO',\n",
              "  'IL',\n",
              "  'ZA',\n",
              "  'SA',\n",
              "  'AE',\n",
              "  'BH',\n",
              "  'QA',\n",
              "  'OM',\n",
              "  'KW',\n",
              "  'EG',\n",
              "  'MA',\n",
              "  'DZ',\n",
              "  'TN',\n",
              "  'LB',\n",
              "  'JO',\n",
              "  'PS',\n",
              "  'IN',\n",
              "  'KZ',\n",
              "  'MD',\n",
              "  'UA',\n",
              "  'AL',\n",
              "  'BA',\n",
              "  'HR',\n",
              "  'ME',\n",
              "  'MK',\n",
              "  'RS',\n",
              "  'SI',\n",
              "  'KR',\n",
              "  'BD',\n",
              "  'PK',\n",
              "  'LK',\n",
              "  'GH',\n",
              "  'KE',\n",
              "  'NG',\n",
              "  'TZ',\n",
              "  'UG',\n",
              "  'AG',\n",
              "  'AM',\n",
              "  'BS',\n",
              "  'BB',\n",
              "  'BZ',\n",
              "  'BT',\n",
              "  'BW',\n",
              "  'BF',\n",
              "  'CV',\n",
              "  'CW',\n",
              "  'DM',\n",
              "  'FJ',\n",
              "  'GM',\n",
              "  'GE',\n",
              "  'GD',\n",
              "  'GW',\n",
              "  'GY',\n",
              "  'HT',\n",
              "  'JM',\n",
              "  'KI',\n",
              "  'LS',\n",
              "  'LR',\n",
              "  'MW',\n",
              "  'MV',\n",
              "  'ML',\n",
              "  'MH',\n",
              "  'FM',\n",
              "  'NA',\n",
              "  'NR',\n",
              "  'NE',\n",
              "  'PW',\n",
              "  'PG',\n",
              "  'WS',\n",
              "  'SM',\n",
              "  'ST',\n",
              "  'SN',\n",
              "  'SC',\n",
              "  'SL',\n",
              "  'SB',\n",
              "  'KN',\n",
              "  'LC',\n",
              "  'VC',\n",
              "  'SR',\n",
              "  'TL',\n",
              "  'TO',\n",
              "  'TT',\n",
              "  'TV',\n",
              "  'VU',\n",
              "  'AZ',\n",
              "  'BN',\n",
              "  'BI',\n",
              "  'KH',\n",
              "  'CM',\n",
              "  'TD',\n",
              "  'KM',\n",
              "  'GQ',\n",
              "  'SZ',\n",
              "  'GA',\n",
              "  'GN',\n",
              "  'KG',\n",
              "  'LA',\n",
              "  'MO',\n",
              "  'MR',\n",
              "  'MN',\n",
              "  'NP',\n",
              "  'RW',\n",
              "  'TG',\n",
              "  'UZ',\n",
              "  'ZW',\n",
              "  'BJ',\n",
              "  'MG',\n",
              "  'MU',\n",
              "  'MZ',\n",
              "  'AO',\n",
              "  'CI',\n",
              "  'DJ',\n",
              "  'ZM',\n",
              "  'CD',\n",
              "  'CG',\n",
              "  'IQ',\n",
              "  'LY',\n",
              "  'TJ',\n",
              "  'VE',\n",
              "  'ET',\n",
              "  'XK'],\n",
              " 'external_urls': {'spotify': 'https://open.spotify.com/album/1Mo4aZ8pdj6L1jx8zSwJnt'},\n",
              " 'href': 'https://api.spotify.com/v1/albums/1Mo4aZ8pdj6L1jx8zSwJnt',\n",
              " 'id': '1Mo4aZ8pdj6L1jx8zSwJnt',\n",
              " 'images': [{'height': 300,\n",
              "   'url': 'https://i.scdn.co/image/ab67616d00001e025076e4160d018e378f488c33',\n",
              "   'width': 300},\n",
              "  {'height': 64,\n",
              "   'url': 'https://i.scdn.co/image/ab67616d000048515076e4160d018e378f488c33',\n",
              "   'width': 64},\n",
              "  {'height': 640,\n",
              "   'url': 'https://i.scdn.co/image/ab67616d0000b2735076e4160d018e378f488c33',\n",
              "   'width': 640}],\n",
              " 'name': 'THE TORTURED POETS DEPARTMENT',\n",
              " 'release_date': '2024-04-18',\n",
              " 'release_date_precision': 'day',\n",
              " 'total_tracks': 16,\n",
              " 'type': 'album',\n",
              " 'uri': 'spotify:album:1Mo4aZ8pdj6L1jx8zSwJnt'}"
            ]
          },
          "execution_count": 41,
          "metadata": {},
          "output_type": "execute_result"
        }
      ],
      "source": [
        "responses[0]"
      ]
    },
    {
      "cell_type": "markdown",
      "metadata": {},
      "source": [
        "You can check the `responses` variable to see if all the elements were downloaded successfully."
      ]
    },
    {
      "cell_type": "code",
      "execution_count": 42,
      "metadata": {},
      "outputs": [
        {
          "data": {
            "text/plain": [
              "100"
            ]
          },
          "execution_count": 42,
          "metadata": {},
          "output_type": "execute_result"
        }
      ],
      "source": [
        "len(responses)"
      ]
    },
    {
      "cell_type": "markdown",
      "metadata": {},
      "source": [
        "With the `paginated_new_releases` function that you created, you are now able to get all 100 available items."
      ]
    },
    {
      "cell_type": "markdown",
      "metadata": {},
      "source": [
        "<a id='ex03'></a>\n",
        "### Exercise 3\n",
        "\n",
        "The function `get_new_releases` can handle pagination by passing the `offset` and `limit` parameters or only using the `next` parameter. Create another function that uses the `next` parameter to perform the pagination and compare your results from the previous exercise. Follow the instructions below:\n",
        "\n",
        "The dictionary `kwargs` is now defined with the following keys:\n",
        "- `'url'`: the URL to perform the call passed to the function as a parameter.\n",
        "- `'access_token'`: the access token passed to the function as a parameter. \n",
        "- `'next'`: the URL to generate the next request, defined as an empty string for the first call.\n",
        "\n",
        "Inside the `while` loop:\n",
        "1. Call the `endpoint_request()` function with the keyword arguments that you specified in the `kwargs` dictionary. Assign it to `response`.\n",
        "2. Extend the `responses` list with the albums' `items` from the `response`.\n",
        "3. Reassign the value of `next_page` as the `'next'` value from the `response[\"albums\"]` dictionary.  If you have any doubt about the response structure, remember to see the [documentation](https://developer.spotify.com/documentation/web-api/reference/get-new-releases).\n",
        "4. Update the `kwargs` dictionary: set the value of the key `'next'` as the variable `next_page`."
      ]
    },
    {
      "cell_type": "code",
      "execution_count": 43,
      "metadata": {},
      "outputs": [],
      "source": [
        "def paginated_with_next_new_releases(endpoint_request: Callable, url: str, access_token: str) -> list:\n",
        "    \"\"\"Manages pagination for API requests done with the endpoint_request callable\n",
        "\n",
        "    Args:\n",
        "        endpoint_request (Callable): Function that performs API request\n",
        "        url (str): Base URL for the request\n",
        "        access_token (str): Access token\n",
        "\n",
        "    Returns:\n",
        "        list: Responses stored in a list\n",
        "    \"\"\"\n",
        "    responses = []\n",
        "        \n",
        "    next_page = url\n",
        "    \n",
        "    kwargs = {\n",
        "            \"url\": url,\n",
        "            \"access_token\": access_token,\n",
        "            \"next\": \"\"\n",
        "        }\n",
        "    \n",
        "    while next_page:\n",
        "        \n",
        "        ### START CODE HERE ### (~ 4 lines of code)\n",
        "        # Call the endpoint_request() function with the arguments specified in the kwargs dictionary.\n",
        "        response = get_new_releases(**kwargs)\n",
        "        # Use extend() method to add the albums' items to the list of responses.\n",
        "        responses.extend(response.get('albums').get('items'))\n",
        "        # Reassign the value of next_page as the 'next' value from the response[\"albums\"] dictionary.\n",
        "        next_page = response.get('albums').get('next')\n",
        "        # Update the kwargs dictionary: set the value of the key 'next' as the variable next_page.\n",
        "        kwargs[\"next\"] = next_page\n",
        "        ### END CODE HERE ###\n",
        "        \n",
        "        print(f\"Executed request with URL: {response.get('albums').get('href')}.\")\n",
        "                \n",
        "    return responses\n",
        "    "
      ]
    },
    {
      "cell_type": "markdown",
      "metadata": {},
      "source": [
        "Now, perform the new paginated call:"
      ]
    },
    {
      "cell_type": "code",
      "execution_count": 44,
      "metadata": {},
      "outputs": [
        {
          "name": "stdout",
          "output_type": "stream",
          "text": [
            "Executed request with URL: https://api.spotify.com/v1/browse/new-releases?offset=0&limit=20.\n",
            "Executed request with URL: https://api.spotify.com/v1/browse/new-releases?offset=20&limit=20.\n",
            "Executed request with URL: https://api.spotify.com/v1/browse/new-releases?offset=40&limit=20.\n",
            "Executed request with URL: https://api.spotify.com/v1/browse/new-releases?offset=60&limit=20.\n",
            "Executed request with URL: https://api.spotify.com/v1/browse/new-releases?offset=80&limit=20.\n"
          ]
        }
      ],
      "source": [
        "responses_with_next = paginated_with_next_new_releases(endpoint_request=get_new_releases, \n",
        "                                                             url=URL_NEW_RELEASES, \n",
        "                                                             access_token=token.get('access_token'))"
      ]
    },
    {
      "cell_type": "markdown",
      "metadata": {},
      "source": [
        "Have a look at one of the responses:"
      ]
    },
    {
      "cell_type": "code",
      "execution_count": 45,
      "metadata": {
        "exercise": [
          "ex03"
        ],
        "tags": [
          "graded"
        ]
      },
      "outputs": [
        {
          "data": {
            "text/plain": [
              "{'album_type': 'album',\n",
              " 'artists': [{'external_urls': {'spotify': 'https://open.spotify.com/artist/06HL4z0CvFAxyc27GXpf02'},\n",
              "   'href': 'https://api.spotify.com/v1/artists/06HL4z0CvFAxyc27GXpf02',\n",
              "   'id': '06HL4z0CvFAxyc27GXpf02',\n",
              "   'name': 'Taylor Swift',\n",
              "   'type': 'artist',\n",
              "   'uri': 'spotify:artist:06HL4z0CvFAxyc27GXpf02'}],\n",
              " 'available_markets': ['AR',\n",
              "  'AU',\n",
              "  'AT',\n",
              "  'BE',\n",
              "  'BO',\n",
              "  'BR',\n",
              "  'BG',\n",
              "  'CA',\n",
              "  'CL',\n",
              "  'CO',\n",
              "  'CR',\n",
              "  'CY',\n",
              "  'CZ',\n",
              "  'DK',\n",
              "  'DO',\n",
              "  'DE',\n",
              "  'EC',\n",
              "  'EE',\n",
              "  'SV',\n",
              "  'FI',\n",
              "  'FR',\n",
              "  'GR',\n",
              "  'GT',\n",
              "  'HN',\n",
              "  'HK',\n",
              "  'HU',\n",
              "  'IS',\n",
              "  'IE',\n",
              "  'IT',\n",
              "  'LV',\n",
              "  'LT',\n",
              "  'LU',\n",
              "  'MY',\n",
              "  'MT',\n",
              "  'MX',\n",
              "  'NL',\n",
              "  'NZ',\n",
              "  'NI',\n",
              "  'NO',\n",
              "  'PA',\n",
              "  'PY',\n",
              "  'PE',\n",
              "  'PH',\n",
              "  'PL',\n",
              "  'PT',\n",
              "  'SG',\n",
              "  'SK',\n",
              "  'ES',\n",
              "  'SE',\n",
              "  'CH',\n",
              "  'TW',\n",
              "  'TR',\n",
              "  'UY',\n",
              "  'US',\n",
              "  'GB',\n",
              "  'AD',\n",
              "  'LI',\n",
              "  'MC',\n",
              "  'ID',\n",
              "  'JP',\n",
              "  'TH',\n",
              "  'VN',\n",
              "  'RO',\n",
              "  'IL',\n",
              "  'ZA',\n",
              "  'SA',\n",
              "  'AE',\n",
              "  'BH',\n",
              "  'QA',\n",
              "  'OM',\n",
              "  'KW',\n",
              "  'EG',\n",
              "  'MA',\n",
              "  'DZ',\n",
              "  'TN',\n",
              "  'LB',\n",
              "  'JO',\n",
              "  'PS',\n",
              "  'IN',\n",
              "  'KZ',\n",
              "  'MD',\n",
              "  'UA',\n",
              "  'AL',\n",
              "  'BA',\n",
              "  'HR',\n",
              "  'ME',\n",
              "  'MK',\n",
              "  'RS',\n",
              "  'SI',\n",
              "  'KR',\n",
              "  'BD',\n",
              "  'PK',\n",
              "  'LK',\n",
              "  'GH',\n",
              "  'KE',\n",
              "  'NG',\n",
              "  'TZ',\n",
              "  'UG',\n",
              "  'AG',\n",
              "  'AM',\n",
              "  'BS',\n",
              "  'BB',\n",
              "  'BZ',\n",
              "  'BT',\n",
              "  'BW',\n",
              "  'BF',\n",
              "  'CV',\n",
              "  'CW',\n",
              "  'DM',\n",
              "  'FJ',\n",
              "  'GM',\n",
              "  'GE',\n",
              "  'GD',\n",
              "  'GW',\n",
              "  'GY',\n",
              "  'HT',\n",
              "  'JM',\n",
              "  'KI',\n",
              "  'LS',\n",
              "  'LR',\n",
              "  'MW',\n",
              "  'MV',\n",
              "  'ML',\n",
              "  'MH',\n",
              "  'FM',\n",
              "  'NA',\n",
              "  'NR',\n",
              "  'NE',\n",
              "  'PW',\n",
              "  'PG',\n",
              "  'WS',\n",
              "  'SM',\n",
              "  'ST',\n",
              "  'SN',\n",
              "  'SC',\n",
              "  'SL',\n",
              "  'SB',\n",
              "  'KN',\n",
              "  'LC',\n",
              "  'VC',\n",
              "  'SR',\n",
              "  'TL',\n",
              "  'TO',\n",
              "  'TT',\n",
              "  'TV',\n",
              "  'VU',\n",
              "  'AZ',\n",
              "  'BN',\n",
              "  'BI',\n",
              "  'KH',\n",
              "  'CM',\n",
              "  'TD',\n",
              "  'KM',\n",
              "  'GQ',\n",
              "  'SZ',\n",
              "  'GA',\n",
              "  'GN',\n",
              "  'KG',\n",
              "  'LA',\n",
              "  'MO',\n",
              "  'MR',\n",
              "  'MN',\n",
              "  'NP',\n",
              "  'RW',\n",
              "  'TG',\n",
              "  'UZ',\n",
              "  'ZW',\n",
              "  'BJ',\n",
              "  'MG',\n",
              "  'MU',\n",
              "  'MZ',\n",
              "  'AO',\n",
              "  'CI',\n",
              "  'DJ',\n",
              "  'ZM',\n",
              "  'CD',\n",
              "  'CG',\n",
              "  'IQ',\n",
              "  'LY',\n",
              "  'TJ',\n",
              "  'VE',\n",
              "  'ET',\n",
              "  'XK'],\n",
              " 'external_urls': {'spotify': 'https://open.spotify.com/album/1Mo4aZ8pdj6L1jx8zSwJnt'},\n",
              " 'href': 'https://api.spotify.com/v1/albums/1Mo4aZ8pdj6L1jx8zSwJnt',\n",
              " 'id': '1Mo4aZ8pdj6L1jx8zSwJnt',\n",
              " 'images': [{'height': 300,\n",
              "   'url': 'https://i.scdn.co/image/ab67616d00001e025076e4160d018e378f488c33',\n",
              "   'width': 300},\n",
              "  {'height': 64,\n",
              "   'url': 'https://i.scdn.co/image/ab67616d000048515076e4160d018e378f488c33',\n",
              "   'width': 64},\n",
              "  {'height': 640,\n",
              "   'url': 'https://i.scdn.co/image/ab67616d0000b2735076e4160d018e378f488c33',\n",
              "   'width': 640}],\n",
              " 'name': 'THE TORTURED POETS DEPARTMENT',\n",
              " 'release_date': '2024-04-18',\n",
              " 'release_date_precision': 'day',\n",
              " 'total_tracks': 16,\n",
              " 'type': 'album',\n",
              " 'uri': 'spotify:album:1Mo4aZ8pdj6L1jx8zSwJnt'}"
            ]
          },
          "execution_count": 45,
          "metadata": {},
          "output_type": "execute_result"
        }
      ],
      "source": [
        "responses_with_next[0]"
      ]
    },
    {
      "cell_type": "markdown",
      "metadata": {},
      "source": [
        "<a id='2-4'></a>\n",
        "### 2.4 - Optional - API Rate Limits\n",
        "\n",
        "*Note*: This is an optional section.\n",
        "\n",
        "Another important aspect to take into account when working with APIs is regarding the rate limits. Rate limiting is a mechanism used by APIs to control the number of requests that a client can make within a specified period of time. It helps prevent abuse or overload of the API by limiting the frequency or volume of requests from a single client. Here's how rate limiting typically works:\n",
        "\n",
        "- Request Quotas: APIs may enforce a maximum number of requests that a client can make within a given time window, for example, 100 requests per minute.\n",
        "\n",
        "- Time Windows: The time window specifies the duration over which the request quota is measured. For example, a rate limit of 100 requests per minute means that the client can make up to 100 requests in any 60-second period.\n",
        "\n",
        "- Response to Exceeding Limits: When a client exceeds the rate limit, the API typically responds with an error code (such as 429 Too Many Requests) or a message indicating that the rate limit has been exceeded. This allows clients to adjust their behavior accordingly, such as by implementing [exponential backoff](https://medium.com/bobble-engineering/how-does-exponential-backoff-work-90ef02401c65) and other retry strategies. (Check [here](https://harish-bhattbhatt.medium.com/best-practices-for-retry-pattern-f29d47cd5117) or [here](https://aws.amazon.com/builders-library/timeouts-retries-and-backoff-with-jitter/)). \n",
        "\n",
        "- Rate Limit Headers: APIs may include headers in the response to indicate the client's current rate limit status, such as the number of requests remaining until the limit resets or the time at which the limit will reset.\n",
        "\n",
        "Rate limiting helps maintain the stability and reliability of APIs by ensuring fair access to resources and protecting against abusive or malicious behavior. It also allows API providers to allocate resources more effectively and manage traffic loads more efficiently.\n",
        "\n",
        "You can also see more of the specifics of the rate limits of the Spotify Web API in the [documentation](https://developer.spotify.com/documentation/web-api/concepts/rate-limits). Particularly, this API doesn't enforce a hard limit for the number of requests done but it works dynamically based on the number of calls within a rolling 30 seconds window. You can find some [blogs](https://medium.com/mendix/limiting-your-amount-of-calls-in-mendix-most-of-the-time-rest-835dde55b10e#:~:text=The%20Spotify%20API%20service%20has,for%2060%20requests%20per%20minute) where experiments have been done to identify the average number of requests per minute. \n",
        "\n",
        "Below you are provided with a code that benchmarks the API calls; you can play with the number of requests and the request interval to see the average time of a request. In case you perform too many requests so that you violate the rate limits, you will get a 429 status code.\n",
        "\n",
        "*Note*: This code may take a few minutes to run."
      ]
    },
    {
      "cell_type": "code",
      "execution_count": 46,
      "metadata": {},
      "outputs": [
        {
          "name": "stdout",
          "output_type": "stream",
          "text": [
            "Average time between successful requests: 0.46 seconds\n"
          ]
        }
      ],
      "source": [
        "import time\n",
        "\n",
        "# Define the Spotify API endpoint\n",
        "endpoint = 'https://api.spotify.com/v1/browse/new-releases'\n",
        "\n",
        "headers = get_auth_header(access_token=token.get('access_token'))\n",
        "\n",
        "# Define the number of requests to make\n",
        "num_requests = 200\n",
        "\n",
        "# Define the interval between requests (in seconds)\n",
        "request_interval = 0.1  # Adjust as needed based on the API rate limit\n",
        "\n",
        "# Store the timestamps of successful requests\n",
        "success_timestamps = []\n",
        "\n",
        "# Make repeated requests to the endpoint\n",
        "for i in range(num_requests):\n",
        "    # Make the request\n",
        "    response = requests.get(url=endpoint, headers=headers)\n",
        "    \n",
        "    # Check if the request was successful\n",
        "    if response.status_code == 200:\n",
        "        success_timestamps.append(time.time())\n",
        "    else:        \n",
        "        print(f'Request {i+1}: Failed with code {response.status_code}')\n",
        "    \n",
        "    # Wait for the specified interval before making the next request\n",
        "    time.sleep(request_interval)\n",
        "\n",
        "# Calculate the time between successful requests\n",
        "if len(success_timestamps) > 1:\n",
        "    time_gaps = [success_timestamps[i] - success_timestamps[i-1] for i in range(1, len(success_timestamps))]\n",
        "    print(f'Average time between successful requests: {sum(time_gaps) / len(time_gaps):.2f} seconds')\n",
        "else:\n",
        "    print('At least two successful requests are needed to calculate the time between requests.')"
      ]
    },
    {
      "cell_type": "markdown",
      "metadata": {},
      "source": [
        "<a id='3'></a>\n",
        "## 3 - Batch pipeline\n",
        "\n",
        "Now that you have learned the basics of working with APIs, let's create a pipeline that extracts the track information for the new released albums. For that, you will use two endpoints:\n",
        "* The same [Get New Releases endpoint](https://developer.spotify.com/documentation/web-api/reference/get-new-releases) you used in the previous exercises.\n",
        "* The [Get Album Tracks endpoint](https://developer.spotify.com/documentation/web-api/reference/get-an-albums-tracks). This endpoint allows you to get Spotify catalog information about an album’s tracks."
      ]
    },
    {
      "cell_type": "markdown",
      "metadata": {},
      "source": [
        "In the `src/` folder, you are given three scripts (`authentication.py`, `endpoint.py` and `main.py`) that will allow you to perform such extraction.\n",
        "- The `endpoint.py` file contains two paginated api calls. The first one `get_paginated_new_releases`allows you get the list of new album releases using the same paginated call you used in the first part. The second one `get_paginated_album_tracks` allows you to get Spotify catalog information about an album’s tracks using the Get Album Tracks endpoint. \n",
        "- The `authentication.py` file contains the script of the `get_token` function that returns an access token.\n",
        "- The `main.py` file calls the first paginated API call to get the ids of the new albums. Then for each album id, the second paginated API call is performed to extract the catalog information for each album id. \n",
        "\n",
        "At this moment, the code manages paginated requests but we haven't taken into account that our access token has a limited time, so if your pipeline requests last more than 3600 seconds, you can get a 401 status code error. So the first step is to write a routine that handles token refresh in the `get_paginated_new_releases`. Follow the instructions to implement this routine."
      ]
    },
    {
      "cell_type": "markdown",
      "metadata": {},
      "source": [
        "<a id='ex04'></a>\n",
        "### Exercise 4\n",
        "\n",
        "Open the file located at `src/endpoint.py`.\n",
        "\n",
        "Search for the `get_paginated_new_releases` function. Create an if condition over the `response.status_code` and compare it with the value 401. This means that if the returned status code is 401 (Unauthorized) you will perform the next steps:\n",
        "- Use the `kwargs` argument that is passed to the `get_paginated_new_releases` function; pass it to the `get_token` callable and assign it to a variable named `token_response`.\n",
        "- Create an internal condition in which you will check if the key `\"access_token\"` is in the `token_response` dictionary. If true, you will call the `get_auth_header` function with the corresponding access token and assign the result to the variable `headers`. Note the usage of the `continue` keyword to make sure that the request will be executed again.\n",
        "- If the condition over `\"access_token\"` is false, just return an empty list.\n",
        "\n",
        "Save changes in the file `src/endpoint.py`."
      ]
    },
    {
      "cell_type": "markdown",
      "metadata": {},
      "source": [
        "Now that we know how to refresh the token in case it expires, it's time to continue with the rest of the code. Now that we have the new album releases, the idea is to extract the information of the tracks that compose each album.\n",
        "\n",
        "To get this information, you will use the [Get Album Tracks endpoint](https://developer.spotify.com/documentation/web-api/reference/get-an-albums-tracks). Take a moment to read the documentation and understand how to request data from this particular endpoint.  \n",
        "\n",
        "Open the file at `src/main.py`. There you will see after the call to the `get_paginated_new_releases` function that you are extracting the albums' IDs from the response and saving them into the `albums_ids` list. Those IDs will be used in the request. Also, search for the following constant: \n",
        "\n",
        "- `URL_ALBUM_TRACKS`: The base URL to get information from a particular album. Take a look at the documentation, you can see that you will have to complement that URL with the album ID and with the `tracks` string to complete the endpoint.\n",
        "\n",
        "\n",
        "This information will be passed to the function `get_paginated_album_tracks` to construct the full endpoint for the API call. In the next exercise, you will work on completing this function in the file `src/endpoint.py`."
      ]
    },
    {
      "cell_type": "markdown",
      "metadata": {},
      "source": [
        "<a id='ex05'></a>\n",
        "### Exercise 5"
      ]
    },
    {
      "cell_type": "markdown",
      "metadata": {},
      "source": [
        "Go back to the `src/endpoint.py` file. Search for the comment `Exercise 5` and follow the instructions to complete the function `get_paginated_album_tracks`.\n",
        "\n",
        "1. The function blueprint for `get_paginated_album_tracks` is already provided to you. The first thing you have to do is to call the `get_auth_header` function with the access token and pass it to a variable `headers`. \n",
        "2. Create the `requests_url` by using the `base_url` and `album_id` parameters. Notice that the `tracks` are added to the URL endpoint. \n",
        "3. In the `while` loop, perform a GET request using the `request_url` and `headers` that you created in the previous step. Assign the result to `response`.\n",
        "4. Implement the same token refresh routine as before for the `get_paginated_new_releases` function.\n",
        "5. After the token refresh, convert the `response` to JSON using the `.json()` method. Assign it to `response_json`.\n",
        "6. Extend the `album_data` list with the value from `\"items\"` in `response_json`.\n",
        "7. Update `request_url` with the `\"next\"` value from `response_json`.\n",
        "\n",
        "Save changes in the file `src/endpoint.py`."
      ]
    },
    {
      "cell_type": "markdown",
      "metadata": {},
      "source": [
        "<a id='ex06'></a>\n",
        "### Exercise 6\n",
        "\n",
        "Go back to the `src/main.py` file. Search for the comment `Exercise 6`. Inside the loop that iterates through the `albums_ids`, there's a call for the `get_paginated_album_tracks` function. Follow the instructions to define the following parameters for the given function:\n",
        "- `base_url`: Use the `URL_ALBUM_TRACKS` constant defined for you.\n",
        "- `access_token`: Make sure to pass the `\"access_token\"` from the `token` object.\n",
        "- `album_id`.\n",
        "- `get_token`: pass the same `get_token` function.\n",
        "- Finally, pass the `kwargs` dictionary defined at the start of the `main()` function.\n",
        "\n",
        "The function response will be assigned to the variable `album_data`.\n",
        "\n",
        "Save changes in the file `src/main.py`."
      ]
    },
    {
      "cell_type": "markdown",
      "metadata": {},
      "source": [
        "Inside the same for loop, the response `album_data` is added to the `album_items` dictionary, using the corresponding album id as key. Finally, after iterating through all albums, you can see that the dictionary `album_items` is saved to a JSON file in the local environment. Take a look at the format of the filename, which takes into account the current date time to avoid collision with other files."
      ]
    },
    {
      "cell_type": "markdown",
      "metadata": {},
      "source": [
        "Run the following commands in the terminal to run the `main.py` script:"
      ]
    },
    {
      "cell_type": "markdown",
      "metadata": {},
      "source": [
        "```bash\n",
        "cd src\n",
        "python main.py\n",
        "```"
      ]
    },
    {
      "cell_type": "markdown",
      "metadata": {},
      "source": [
        "*Notes*: To open the terminal, click on Terminal -> New Terminal in the menu:\n",
        "\n",
        "<img src=\"images/VSCodeCourseraTerminal.png\"  width=\"600\"/>"
      ]
    },
    {
      "cell_type": "markdown",
      "metadata": {},
      "source": [
        "Once the script is finished, you should be able to see a file named `album_items_<DATETIME>.json` in the folder `src`."
      ]
    },
    {
      "cell_type": "markdown",
      "metadata": {},
      "source": [
        "<a id='4'></a>\n",
        "## 4 - Optional - Spotipy SDK\n",
        "\n",
        "In several cases, the API developers also provide a Software Development Kit (SDK) to connect and perform requests to the different endpoints of the API without the necessity of creating the code from scratch. For Spotify Web API they developed the [Spotipy SDK](https://spotipy.readthedocs.io/en/2.22.1/) to do it. Let's see an example of how it will work to replicate the extraction of data from the new album releases endpoint in a paginated way."
      ]
    },
    {
      "cell_type": "code",
      "execution_count": 47,
      "metadata": {},
      "outputs": [],
      "source": [
        "import spotipy\n",
        "from spotipy.oauth2 import SpotifyClientCredentials"
      ]
    },
    {
      "cell_type": "code",
      "execution_count": 48,
      "metadata": {},
      "outputs": [],
      "source": [
        "credentials = SpotifyClientCredentials(\n",
        "        client_id=CLIENT_ID, client_secret=CLIENT_SECRET\n",
        "    )\n",
        "\n",
        "spotify = spotipy.Spotify(client_credentials_manager=credentials)"
      ]
    },
    {
      "cell_type": "markdown",
      "metadata": {},
      "source": [
        "You can see that the `credentials` object handles the authentication process and contains the token to be used in later requests.\n",
        "\n",
        "*Note*: Please ignore the `DeprecationWarning` message if you see an access token in the output."
      ]
    },
    {
      "cell_type": "code",
      "execution_count": 49,
      "metadata": {},
      "outputs": [
        {
          "name": "stderr",
          "output_type": "stream",
          "text": [
            "/tmp/ipykernel_1194/2682040240.py:1: DeprecationWarning: You're using 'as_dict = True'.get_access_token will return the token string directly in future versions. Please adjust your code accordingly, or use get_cached_token instead.\n",
            "  credentials.get_access_token()\n"
          ]
        },
        {
          "data": {
            "text/plain": [
              "{'access_token': 'BQA1ZZXSa_W8YjstmQkngMUXNvC40_ogd98SrQ5iki64F1CqYNpbUtRGIwg-LUgZd0PtvRkMOGbsP4REavY-nwXa7htVgZ-9A80RRjClRCoKlTBiKctcBN4ifVN8KwOVZzS1hNc7iIo',\n",
              " 'token_type': 'Bearer',\n",
              " 'expires_in': 3600,\n",
              " 'expires_at': 1739016071}"
            ]
          },
          "execution_count": 49,
          "metadata": {},
          "output_type": "execute_result"
        }
      ],
      "source": [
        "credentials.get_access_token()"
      ]
    },
    {
      "cell_type": "markdown",
      "metadata": {},
      "source": [
        "Let's get data from of the new album releases, as you did in the previous example:"
      ]
    },
    {
      "cell_type": "code",
      "execution_count": 50,
      "metadata": {},
      "outputs": [],
      "source": [
        "limit = 20\n",
        "response = spotify.new_releases(limit=limit)"
      ]
    },
    {
      "cell_type": "markdown",
      "metadata": {},
      "source": [
        "You can also paginate through these responses. If you check the documentation of the [`new_releases` method](https://spotipy.readthedocs.io/en/2.22.1/#spotipy.client.Spotify.new_releases), you can see that you can specify the parameter `offset`, as you previously did. "
      ]
    },
    {
      "cell_type": "markdown",
      "metadata": {},
      "source": [
        "<a id='ex07'></a>\n",
        "### Exercise 7\n",
        "\n",
        "Let's perform a paginated request with the SDK. We can then check the results of this paginated request against the total number of elements we saw in the previous exercises, which would be 100. Follow the instructions to finish the code to perform paginated requests.\n",
        "\n",
        "1. Extend the `album_data` list with the `items` from the `albums` key in the previous `response`.\n",
        "2. Get the `total` number of elements from the response and assign it to the variable `total_albums_elements`.\n",
        "3. Create a list of offset indexes. As you already have the data from the first call, your starting offset index should be the `limit` value that you used to make the first request. The list should finish at `total_albums_elements` and the pace should be the same `limit` value. Save it into `offset_idx`.\n",
        "4. Start the pagination: iterate over each index in `offset_idx`. In `response_page`, assign the response from the request to the `new_releases` method using the corresponding offset index and limit.\n",
        "5. Extend again the `album_data` with the album `items` that you get in the `response_page`.\n",
        "\n",
        "You can visually inspect the values in the `album_data` and make sure the list length is the same as the total number of elements that are available to request."
      ]
    },
    {
      "cell_type": "code",
      "execution_count": 52,
      "metadata": {},
      "outputs": [
        {
          "data": {
            "text/plain": [
              "{'album_type': 'album',\n",
              " 'artists': [{'external_urls': {'spotify': 'https://open.spotify.com/artist/06HL4z0CvFAxyc27GXpf02'},\n",
              "   'href': 'https://api.spotify.com/v1/artists/06HL4z0CvFAxyc27GXpf02',\n",
              "   'id': '06HL4z0CvFAxyc27GXpf02',\n",
              "   'name': 'Taylor Swift',\n",
              "   'type': 'artist',\n",
              "   'uri': 'spotify:artist:06HL4z0CvFAxyc27GXpf02'}],\n",
              " 'available_markets': ['AR',\n",
              "  'AU',\n",
              "  'AT',\n",
              "  'BE',\n",
              "  'BO',\n",
              "  'BR',\n",
              "  'BG',\n",
              "  'CA',\n",
              "  'CL',\n",
              "  'CO',\n",
              "  'CR',\n",
              "  'CY',\n",
              "  'CZ',\n",
              "  'DK',\n",
              "  'DO',\n",
              "  'DE',\n",
              "  'EC',\n",
              "  'EE',\n",
              "  'SV',\n",
              "  'FI',\n",
              "  'FR',\n",
              "  'GR',\n",
              "  'GT',\n",
              "  'HN',\n",
              "  'HK',\n",
              "  'HU',\n",
              "  'IS',\n",
              "  'IE',\n",
              "  'IT',\n",
              "  'LV',\n",
              "  'LT',\n",
              "  'LU',\n",
              "  'MY',\n",
              "  'MT',\n",
              "  'MX',\n",
              "  'NL',\n",
              "  'NZ',\n",
              "  'NI',\n",
              "  'NO',\n",
              "  'PA',\n",
              "  'PY',\n",
              "  'PE',\n",
              "  'PH',\n",
              "  'PL',\n",
              "  'PT',\n",
              "  'SG',\n",
              "  'SK',\n",
              "  'ES',\n",
              "  'SE',\n",
              "  'CH',\n",
              "  'TW',\n",
              "  'TR',\n",
              "  'UY',\n",
              "  'US',\n",
              "  'GB',\n",
              "  'AD',\n",
              "  'LI',\n",
              "  'MC',\n",
              "  'ID',\n",
              "  'JP',\n",
              "  'TH',\n",
              "  'VN',\n",
              "  'RO',\n",
              "  'IL',\n",
              "  'ZA',\n",
              "  'SA',\n",
              "  'AE',\n",
              "  'BH',\n",
              "  'QA',\n",
              "  'OM',\n",
              "  'KW',\n",
              "  'EG',\n",
              "  'MA',\n",
              "  'DZ',\n",
              "  'TN',\n",
              "  'LB',\n",
              "  'JO',\n",
              "  'PS',\n",
              "  'IN',\n",
              "  'KZ',\n",
              "  'MD',\n",
              "  'UA',\n",
              "  'AL',\n",
              "  'BA',\n",
              "  'HR',\n",
              "  'ME',\n",
              "  'MK',\n",
              "  'RS',\n",
              "  'SI',\n",
              "  'KR',\n",
              "  'BD',\n",
              "  'PK',\n",
              "  'LK',\n",
              "  'GH',\n",
              "  'KE',\n",
              "  'NG',\n",
              "  'TZ',\n",
              "  'UG',\n",
              "  'AG',\n",
              "  'AM',\n",
              "  'BS',\n",
              "  'BB',\n",
              "  'BZ',\n",
              "  'BT',\n",
              "  'BW',\n",
              "  'BF',\n",
              "  'CV',\n",
              "  'CW',\n",
              "  'DM',\n",
              "  'FJ',\n",
              "  'GM',\n",
              "  'GE',\n",
              "  'GD',\n",
              "  'GW',\n",
              "  'GY',\n",
              "  'HT',\n",
              "  'JM',\n",
              "  'KI',\n",
              "  'LS',\n",
              "  'LR',\n",
              "  'MW',\n",
              "  'MV',\n",
              "  'ML',\n",
              "  'MH',\n",
              "  'FM',\n",
              "  'NA',\n",
              "  'NR',\n",
              "  'NE',\n",
              "  'PW',\n",
              "  'PG',\n",
              "  'WS',\n",
              "  'SM',\n",
              "  'ST',\n",
              "  'SN',\n",
              "  'SC',\n",
              "  'SL',\n",
              "  'SB',\n",
              "  'KN',\n",
              "  'LC',\n",
              "  'VC',\n",
              "  'SR',\n",
              "  'TL',\n",
              "  'TO',\n",
              "  'TT',\n",
              "  'TV',\n",
              "  'VU',\n",
              "  'AZ',\n",
              "  'BN',\n",
              "  'BI',\n",
              "  'KH',\n",
              "  'CM',\n",
              "  'TD',\n",
              "  'KM',\n",
              "  'GQ',\n",
              "  'SZ',\n",
              "  'GA',\n",
              "  'GN',\n",
              "  'KG',\n",
              "  'LA',\n",
              "  'MO',\n",
              "  'MR',\n",
              "  'MN',\n",
              "  'NP',\n",
              "  'RW',\n",
              "  'TG',\n",
              "  'UZ',\n",
              "  'ZW',\n",
              "  'BJ',\n",
              "  'MG',\n",
              "  'MU',\n",
              "  'MZ',\n",
              "  'AO',\n",
              "  'CI',\n",
              "  'DJ',\n",
              "  'ZM',\n",
              "  'CD',\n",
              "  'CG',\n",
              "  'IQ',\n",
              "  'LY',\n",
              "  'TJ',\n",
              "  'VE',\n",
              "  'ET',\n",
              "  'XK'],\n",
              " 'external_urls': {'spotify': 'https://open.spotify.com/album/1Mo4aZ8pdj6L1jx8zSwJnt'},\n",
              " 'href': 'https://api.spotify.com/v1/albums/1Mo4aZ8pdj6L1jx8zSwJnt',\n",
              " 'id': '1Mo4aZ8pdj6L1jx8zSwJnt',\n",
              " 'images': [{'height': 300,\n",
              "   'url': 'https://i.scdn.co/image/ab67616d00001e025076e4160d018e378f488c33',\n",
              "   'width': 300},\n",
              "  {'height': 64,\n",
              "   'url': 'https://i.scdn.co/image/ab67616d000048515076e4160d018e378f488c33',\n",
              "   'width': 64},\n",
              "  {'height': 640,\n",
              "   'url': 'https://i.scdn.co/image/ab67616d0000b2735076e4160d018e378f488c33',\n",
              "   'width': 640}],\n",
              " 'name': 'THE TORTURED POETS DEPARTMENT',\n",
              " 'release_date': '2024-04-18',\n",
              " 'release_date_precision': 'day',\n",
              " 'total_tracks': 16,\n",
              " 'type': 'album',\n",
              " 'uri': 'spotify:album:1Mo4aZ8pdj6L1jx8zSwJnt'}"
            ]
          },
          "execution_count": 52,
          "metadata": {},
          "output_type": "execute_result"
        }
      ],
      "source": [
        "def paginated_new_releases_sdk(limit: int=20) -> list:\n",
        "\n",
        "    album_data = []\n",
        "    ### START CODE HERE ### (~ 6 lines of code)\n",
        "    album_data.extend(response.get('albums').get('items'))\n",
        "    total_albums_elements = response.get('albums').get('total')\n",
        "    offset_idx = list(range(response.get('albums').get('offset'), total_albums_elements, limit))\n",
        "\n",
        "    for idx in offset_idx: \n",
        "        \n",
        "        response_page = spotify.new_releases(limit=limit, offset=response.get('albums').get('offset'))\n",
        "        album_data.extend(response.get('albums').get('items'))\n",
        "    ### END CODE HERE ###\n",
        "    return album_data\n",
        "    \n",
        "album_data_sdk = paginated_new_releases_sdk()\n",
        "album_data_sdk[0]"
      ]
    },
    {
      "cell_type": "code",
      "execution_count": 53,
      "metadata": {},
      "outputs": [
        {
          "data": {
            "text/plain": [
              "120"
            ]
          },
          "execution_count": 53,
          "metadata": {},
          "output_type": "execute_result"
        }
      ],
      "source": [
        "len(album_data_sdk)"
      ]
    },
    {
      "cell_type": "markdown",
      "metadata": {},
      "source": [
        "In this lab you learned the basics of ingesting data from the API. You worked with authentication process and pagination in a manual way as well as using an API SDK."
      ]
    },
    {
      "cell_type": "code",
      "execution_count": null,
      "metadata": {},
      "outputs": [],
      "source": []
    }
  ],
  "metadata": {
    "grader_version": "1",
    "kernelspec": {
      "display_name": "Python 3",
      "language": "python",
      "name": "python3"
    },
    "language_info": {
      "codemirror_mode": {
        "name": "ipython",
        "version": 3
      },
      "file_extension": ".py",
      "mimetype": "text/x-python",
      "name": "python",
      "nbconvert_exporter": "python",
      "pygments_lexer": "ipython3",
      "version": "3.12.9"
    }
  },
  "nbformat": 4,
  "nbformat_minor": 4
}
